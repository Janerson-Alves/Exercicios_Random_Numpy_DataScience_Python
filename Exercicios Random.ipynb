{
  "nbformat": 4,
  "nbformat_minor": 0,
  "metadata": {
    "colab": {
      "provenance": []
    },
    "kernelspec": {
      "name": "python3",
      "display_name": "Python 3"
    },
    "language_info": {
      "name": "python"
    }
  },
  "cells": [
    {
      "cell_type": "code",
      "execution_count": 76,
      "metadata": {
        "id": "ZnmzBbtAcAYx"
      },
      "outputs": [],
      "source": [
        "'''\n",
        "RANDOM EM NUMPY\n",
        "Quais habilidades iremos desenvolver?\n",
        "- Gerar arrays com distintas distribuições de probabilidade aleatoriamente.\n",
        "'''\n",
        "import numpy as np"
      ]
    },
    {
      "cell_type": "code",
      "source": [
        "'''\n",
        "Exercício 1\n",
        "Gere uma distribuição normal aleatória de ordem 4 x 5. Armazene o resultado em uma variável.\n",
        "'''"
      ],
      "metadata": {
        "colab": {
          "base_uri": "https://localhost:8080/",
          "height": 54
        },
        "id": "gUT1zXhncaiA",
        "outputId": "3d0a7834-627d-4f3e-f8aa-57062206f754"
      },
      "execution_count": 77,
      "outputs": [
        {
          "output_type": "execute_result",
          "data": {
            "text/plain": [
              "'\\nExercício 1\\nGere uma distribuição normal aleatória de ordem 4 x 5. Armazene o resultado em uma variável.\\n'"
            ],
            "application/vnd.google.colaboratory.intrinsic+json": {
              "type": "string"
            }
          },
          "metadata": {},
          "execution_count": 47
        },
        {
          "output_type": "execute_result",
          "data": {
            "text/plain": [
              "'\\nExercício 1\\nGere uma distribuição normal aleatória de ordem 4 x 5. Armazene o resultado em uma variável.\\n'"
            ],
            "application/vnd.google.colaboratory.intrinsic+json": {
              "type": "string"
            }
          },
          "metadata": {},
          "execution_count": 77
        }
      ]
    },
    {
      "cell_type": "code",
      "source": [
        "from numpy import random\n",
        "data = random.normal(size = (4,5))\n",
        "print(data)"
      ],
      "metadata": {
        "colab": {
          "base_uri": "https://localhost:8080/"
        },
        "id": "7cJHXS9_ciS0",
        "outputId": "95e83028-9994-4fc0-9583-7bacceea0859"
      },
      "execution_count": 78,
      "outputs": [
        {
          "output_type": "stream",
          "name": "stdout",
          "text": [
            "[[-0.37409981 -0.96300924  0.38790859 -2.70612884  0.51243604]\n",
            " [ 0.85838942 -1.03431456 -0.27255619  0.62695454 -0.82119539]\n",
            " [ 2.26826792  0.12910652  1.11902298 -0.32468071 -0.24869032]\n",
            " [-0.8457834  -0.84811219  0.80299637  0.00565005 -0.4205381 ]]\n",
            "[[-0.47697621  0.58392726  0.91395626  0.25936328  1.10227491]\n",
            " [ 0.81356265 -0.22775319 -1.7644925  -0.78389745 -0.52982673]\n",
            " [-1.23726767 -1.71816839  0.41655794 -0.03292112  0.57239469]\n",
            " [-0.51128816  1.61132297 -1.47914937 -0.46528692  0.01661426]]\n"
          ]
        }
      ]
    },
    {
      "cell_type": "code",
      "source": [
        "'''\n",
        "Gere uma distribuição normal aleatória com de ordem 20 x 5, com média 10 e desvio padrão 3.\n",
        " Armazene o resultado em uma variável. Em seguida crie um DataFrame a partir dos dados criados.\n",
        "'''"
      ],
      "metadata": {
        "colab": {
          "base_uri": "https://localhost:8080/",
          "height": 71
        },
        "id": "12ovHpyycmZI",
        "outputId": "d2e916fd-b840-408c-8265-de6377d91b49"
      },
      "execution_count": 79,
      "outputs": [
        {
          "output_type": "execute_result",
          "data": {
            "text/plain": [
              "'\\nGere uma distribuição normal aleatória com de ordem 20 x 5, com média 10 e desvio padrão 3.\\n Armazene o resultado em uma variável. Em seguida crie um DataFrame a partir dos dados criados.\\n'"
            ],
            "application/vnd.google.colaboratory.intrinsic+json": {
              "type": "string"
            }
          },
          "metadata": {},
          "execution_count": 49
        },
        {
          "output_type": "execute_result",
          "data": {
            "text/plain": [
              "'\\nGere uma distribuição normal aleatória com de ordem 20 x 5, com média 10 e desvio padrão 3.\\n Armazene o resultado em uma variável. Em seguida crie um DataFrame a partir dos dados criados.\\n'"
            ],
            "application/vnd.google.colaboratory.intrinsic+json": {
              "type": "string"
            }
          },
          "metadata": {},
          "execution_count": 79
        }
      ]
    },
    {
      "cell_type": "code",
      "source": [
        "from numpy import random\n",
        "import pandas as pd\n",
        "data = random.normal(10, 3, size=(20,5))\n",
        "df = pd.DataFrame(data, columns= list('ABCDE'),  index = range(1, data.shape[0]+1))\n",
        "df"
      ],
      "metadata": {
        "colab": {
          "base_uri": "https://localhost:8080/",
          "height": 1000
        },
        "id": "E4-Lj5PSc8kO",
        "outputId": "ea62da6f-2e0a-4707-d6c5-cb6c4ae1e661"
      },
      "execution_count": 80,
      "outputs": [
        {
          "output_type": "execute_result",
          "data": {
            "text/plain": [
              "            A          B          C          D          E\n",
              "1   10.898112  11.656783   9.163850   9.015994  10.621829\n",
              "2    5.929311  14.274494  11.086838   5.912502  10.053964\n",
              "3   10.034806   5.513853  11.187159  10.957387  10.966016\n",
              "4    7.086632  15.741462   5.705501   7.756098   4.734756\n",
              "5    4.785457  13.411449  10.948476   8.683368  14.066868\n",
              "6    8.968913   7.113174  13.301519   9.206524  10.028286\n",
              "7    6.710294  14.683028  13.183517   9.396858   9.671477\n",
              "8    9.793081  11.260451   7.604678   8.624089  12.871488\n",
              "9   15.744194  10.119153  11.896290  11.574606   8.503915\n",
              "10  11.279252  11.164654   6.588950   8.542559  12.726843\n",
              "11   5.751427   5.706357  11.546849   7.989225  13.948978\n",
              "12   7.999092  12.088384  10.148498  13.127154   5.632907\n",
              "13  13.214447  10.737545  11.559320  11.782766  11.548677\n",
              "14   7.607379   6.316885   9.496359   6.167547   7.083283\n",
              "15   9.689930  14.850826  11.888644  14.980467   6.515018\n",
              "16  10.165446  10.742944  11.189748   5.817651   6.775562\n",
              "17   9.530462   9.006443   9.433009   6.946787   8.877267\n",
              "18   9.727357  14.741157   7.775100  12.858088  12.085624\n",
              "19  12.124330   7.678231  14.832272   5.418047  10.023347\n",
              "20   9.144738  14.701043   7.365543  11.314181  12.254686"
            ],
            "text/html": [
              "\n",
              "  <div id=\"df-35894fd9-bddc-4454-9177-4cbf574da756\">\n",
              "    <div class=\"colab-df-container\">\n",
              "      <div>\n",
              "<style scoped>\n",
              "    .dataframe tbody tr th:only-of-type {\n",
              "        vertical-align: middle;\n",
              "    }\n",
              "\n",
              "    .dataframe tbody tr th {\n",
              "        vertical-align: top;\n",
              "    }\n",
              "\n",
              "    .dataframe thead th {\n",
              "        text-align: right;\n",
              "    }\n",
              "</style>\n",
              "<table border=\"1\" class=\"dataframe\">\n",
              "  <thead>\n",
              "    <tr style=\"text-align: right;\">\n",
              "      <th></th>\n",
              "      <th>A</th>\n",
              "      <th>B</th>\n",
              "      <th>C</th>\n",
              "      <th>D</th>\n",
              "      <th>E</th>\n",
              "    </tr>\n",
              "  </thead>\n",
              "  <tbody>\n",
              "    <tr>\n",
              "      <th>1</th>\n",
              "      <td>10.898112</td>\n",
              "      <td>11.656783</td>\n",
              "      <td>9.163850</td>\n",
              "      <td>9.015994</td>\n",
              "      <td>10.621829</td>\n",
              "    </tr>\n",
              "    <tr>\n",
              "      <th>2</th>\n",
              "      <td>5.929311</td>\n",
              "      <td>14.274494</td>\n",
              "      <td>11.086838</td>\n",
              "      <td>5.912502</td>\n",
              "      <td>10.053964</td>\n",
              "    </tr>\n",
              "    <tr>\n",
              "      <th>3</th>\n",
              "      <td>10.034806</td>\n",
              "      <td>5.513853</td>\n",
              "      <td>11.187159</td>\n",
              "      <td>10.957387</td>\n",
              "      <td>10.966016</td>\n",
              "    </tr>\n",
              "    <tr>\n",
              "      <th>4</th>\n",
              "      <td>7.086632</td>\n",
              "      <td>15.741462</td>\n",
              "      <td>5.705501</td>\n",
              "      <td>7.756098</td>\n",
              "      <td>4.734756</td>\n",
              "    </tr>\n",
              "    <tr>\n",
              "      <th>5</th>\n",
              "      <td>4.785457</td>\n",
              "      <td>13.411449</td>\n",
              "      <td>10.948476</td>\n",
              "      <td>8.683368</td>\n",
              "      <td>14.066868</td>\n",
              "    </tr>\n",
              "    <tr>\n",
              "      <th>6</th>\n",
              "      <td>8.968913</td>\n",
              "      <td>7.113174</td>\n",
              "      <td>13.301519</td>\n",
              "      <td>9.206524</td>\n",
              "      <td>10.028286</td>\n",
              "    </tr>\n",
              "    <tr>\n",
              "      <th>7</th>\n",
              "      <td>6.710294</td>\n",
              "      <td>14.683028</td>\n",
              "      <td>13.183517</td>\n",
              "      <td>9.396858</td>\n",
              "      <td>9.671477</td>\n",
              "    </tr>\n",
              "    <tr>\n",
              "      <th>8</th>\n",
              "      <td>9.793081</td>\n",
              "      <td>11.260451</td>\n",
              "      <td>7.604678</td>\n",
              "      <td>8.624089</td>\n",
              "      <td>12.871488</td>\n",
              "    </tr>\n",
              "    <tr>\n",
              "      <th>9</th>\n",
              "      <td>15.744194</td>\n",
              "      <td>10.119153</td>\n",
              "      <td>11.896290</td>\n",
              "      <td>11.574606</td>\n",
              "      <td>8.503915</td>\n",
              "    </tr>\n",
              "    <tr>\n",
              "      <th>10</th>\n",
              "      <td>11.279252</td>\n",
              "      <td>11.164654</td>\n",
              "      <td>6.588950</td>\n",
              "      <td>8.542559</td>\n",
              "      <td>12.726843</td>\n",
              "    </tr>\n",
              "    <tr>\n",
              "      <th>11</th>\n",
              "      <td>5.751427</td>\n",
              "      <td>5.706357</td>\n",
              "      <td>11.546849</td>\n",
              "      <td>7.989225</td>\n",
              "      <td>13.948978</td>\n",
              "    </tr>\n",
              "    <tr>\n",
              "      <th>12</th>\n",
              "      <td>7.999092</td>\n",
              "      <td>12.088384</td>\n",
              "      <td>10.148498</td>\n",
              "      <td>13.127154</td>\n",
              "      <td>5.632907</td>\n",
              "    </tr>\n",
              "    <tr>\n",
              "      <th>13</th>\n",
              "      <td>13.214447</td>\n",
              "      <td>10.737545</td>\n",
              "      <td>11.559320</td>\n",
              "      <td>11.782766</td>\n",
              "      <td>11.548677</td>\n",
              "    </tr>\n",
              "    <tr>\n",
              "      <th>14</th>\n",
              "      <td>7.607379</td>\n",
              "      <td>6.316885</td>\n",
              "      <td>9.496359</td>\n",
              "      <td>6.167547</td>\n",
              "      <td>7.083283</td>\n",
              "    </tr>\n",
              "    <tr>\n",
              "      <th>15</th>\n",
              "      <td>9.689930</td>\n",
              "      <td>14.850826</td>\n",
              "      <td>11.888644</td>\n",
              "      <td>14.980467</td>\n",
              "      <td>6.515018</td>\n",
              "    </tr>\n",
              "    <tr>\n",
              "      <th>16</th>\n",
              "      <td>10.165446</td>\n",
              "      <td>10.742944</td>\n",
              "      <td>11.189748</td>\n",
              "      <td>5.817651</td>\n",
              "      <td>6.775562</td>\n",
              "    </tr>\n",
              "    <tr>\n",
              "      <th>17</th>\n",
              "      <td>9.530462</td>\n",
              "      <td>9.006443</td>\n",
              "      <td>9.433009</td>\n",
              "      <td>6.946787</td>\n",
              "      <td>8.877267</td>\n",
              "    </tr>\n",
              "    <tr>\n",
              "      <th>18</th>\n",
              "      <td>9.727357</td>\n",
              "      <td>14.741157</td>\n",
              "      <td>7.775100</td>\n",
              "      <td>12.858088</td>\n",
              "      <td>12.085624</td>\n",
              "    </tr>\n",
              "    <tr>\n",
              "      <th>19</th>\n",
              "      <td>12.124330</td>\n",
              "      <td>7.678231</td>\n",
              "      <td>14.832272</td>\n",
              "      <td>5.418047</td>\n",
              "      <td>10.023347</td>\n",
              "    </tr>\n",
              "    <tr>\n",
              "      <th>20</th>\n",
              "      <td>9.144738</td>\n",
              "      <td>14.701043</td>\n",
              "      <td>7.365543</td>\n",
              "      <td>11.314181</td>\n",
              "      <td>12.254686</td>\n",
              "    </tr>\n",
              "  </tbody>\n",
              "</table>\n",
              "</div>\n",
              "      <button class=\"colab-df-convert\" onclick=\"convertToInteractive('df-35894fd9-bddc-4454-9177-4cbf574da756')\"\n",
              "              title=\"Convert this dataframe to an interactive table.\"\n",
              "              style=\"display:none;\">\n",
              "        \n",
              "  <svg xmlns=\"http://www.w3.org/2000/svg\" height=\"24px\"viewBox=\"0 0 24 24\"\n",
              "       width=\"24px\">\n",
              "    <path d=\"M0 0h24v24H0V0z\" fill=\"none\"/>\n",
              "    <path d=\"M18.56 5.44l.94 2.06.94-2.06 2.06-.94-2.06-.94-.94-2.06-.94 2.06-2.06.94zm-11 1L8.5 8.5l.94-2.06 2.06-.94-2.06-.94L8.5 2.5l-.94 2.06-2.06.94zm10 10l.94 2.06.94-2.06 2.06-.94-2.06-.94-.94-2.06-.94 2.06-2.06.94z\"/><path d=\"M17.41 7.96l-1.37-1.37c-.4-.4-.92-.59-1.43-.59-.52 0-1.04.2-1.43.59L10.3 9.45l-7.72 7.72c-.78.78-.78 2.05 0 2.83L4 21.41c.39.39.9.59 1.41.59.51 0 1.02-.2 1.41-.59l7.78-7.78 2.81-2.81c.8-.78.8-2.07 0-2.86zM5.41 20L4 18.59l7.72-7.72 1.47 1.35L5.41 20z\"/>\n",
              "  </svg>\n",
              "      </button>\n",
              "      \n",
              "  <style>\n",
              "    .colab-df-container {\n",
              "      display:flex;\n",
              "      flex-wrap:wrap;\n",
              "      gap: 12px;\n",
              "    }\n",
              "\n",
              "    .colab-df-convert {\n",
              "      background-color: #E8F0FE;\n",
              "      border: none;\n",
              "      border-radius: 50%;\n",
              "      cursor: pointer;\n",
              "      display: none;\n",
              "      fill: #1967D2;\n",
              "      height: 32px;\n",
              "      padding: 0 0 0 0;\n",
              "      width: 32px;\n",
              "    }\n",
              "\n",
              "    .colab-df-convert:hover {\n",
              "      background-color: #E2EBFA;\n",
              "      box-shadow: 0px 1px 2px rgba(60, 64, 67, 0.3), 0px 1px 3px 1px rgba(60, 64, 67, 0.15);\n",
              "      fill: #174EA6;\n",
              "    }\n",
              "\n",
              "    [theme=dark] .colab-df-convert {\n",
              "      background-color: #3B4455;\n",
              "      fill: #D2E3FC;\n",
              "    }\n",
              "\n",
              "    [theme=dark] .colab-df-convert:hover {\n",
              "      background-color: #434B5C;\n",
              "      box-shadow: 0px 1px 3px 1px rgba(0, 0, 0, 0.15);\n",
              "      filter: drop-shadow(0px 1px 2px rgba(0, 0, 0, 0.3));\n",
              "      fill: #FFFFFF;\n",
              "    }\n",
              "  </style>\n",
              "\n",
              "      <script>\n",
              "        const buttonEl =\n",
              "          document.querySelector('#df-35894fd9-bddc-4454-9177-4cbf574da756 button.colab-df-convert');\n",
              "        buttonEl.style.display =\n",
              "          google.colab.kernel.accessAllowed ? 'block' : 'none';\n",
              "\n",
              "        async function convertToInteractive(key) {\n",
              "          const element = document.querySelector('#df-35894fd9-bddc-4454-9177-4cbf574da756');\n",
              "          const dataTable =\n",
              "            await google.colab.kernel.invokeFunction('convertToInteractive',\n",
              "                                                     [key], {});\n",
              "          if (!dataTable) return;\n",
              "\n",
              "          const docLinkHtml = 'Like what you see? Visit the ' +\n",
              "            '<a target=\"_blank\" href=https://colab.research.google.com/notebooks/data_table.ipynb>data table notebook</a>'\n",
              "            + ' to learn more about interactive tables.';\n",
              "          element.innerHTML = '';\n",
              "          dataTable['output_type'] = 'display_data';\n",
              "          await google.colab.output.renderOutput(dataTable, element);\n",
              "          const docLink = document.createElement('div');\n",
              "          docLink.innerHTML = docLinkHtml;\n",
              "          element.appendChild(docLink);\n",
              "        }\n",
              "      </script>\n",
              "    </div>\n",
              "  </div>\n",
              "  "
            ]
          },
          "metadata": {},
          "execution_count": 50
        },
        {
          "output_type": "execute_result",
          "data": {
            "text/plain": [
              "            A          B          C          D          E\n",
              "1   11.057972  11.981675   6.954934   8.902518  10.532753\n",
              "2   10.684240   7.130037  12.167159   7.642157   7.478512\n",
              "3   10.094722  13.944927   6.399722  10.778837   8.994950\n",
              "4    7.069732  10.178782  10.419215   5.421663  11.259349\n",
              "5    6.714093  16.135910   9.507968   7.611587  10.056651\n",
              "6    3.706779  12.230562   5.210624   5.763155  13.055004\n",
              "7    7.781963  10.773547   9.824201   9.133181  12.648721\n",
              "8    9.682960   9.502148  10.664221  11.400932   7.089598\n",
              "9   14.045259   6.634204   7.876173   6.854169   5.144289\n",
              "10  10.734820   7.572457   8.912426  15.834368  10.325447\n",
              "11  11.668003   6.348327  15.905655   9.428098   8.062525\n",
              "12  11.761915   7.624103  11.439321  13.050631   1.884825\n",
              "13   8.357925  10.241512   9.095538  12.113923   8.687804\n",
              "14  13.512720  16.253934   7.010582  10.450495   7.019895\n",
              "15  10.655055  10.632223   9.523188  12.501351  12.434691\n",
              "16   8.662366  10.879266   8.789837   6.502300   9.720963\n",
              "17   5.389360   8.230641   9.269344  11.263244   9.725851\n",
              "18  10.130218  10.611013   7.284877  13.978042   9.462523\n",
              "19  14.840917  11.505428   7.365176   9.718541  12.551290\n",
              "20   7.248158  11.493915  15.144592  14.213850  12.711898"
            ],
            "text/html": [
              "\n",
              "  <div id=\"df-dfd77be1-2f64-4961-87e7-e0ad383b67c0\">\n",
              "    <div class=\"colab-df-container\">\n",
              "      <div>\n",
              "<style scoped>\n",
              "    .dataframe tbody tr th:only-of-type {\n",
              "        vertical-align: middle;\n",
              "    }\n",
              "\n",
              "    .dataframe tbody tr th {\n",
              "        vertical-align: top;\n",
              "    }\n",
              "\n",
              "    .dataframe thead th {\n",
              "        text-align: right;\n",
              "    }\n",
              "</style>\n",
              "<table border=\"1\" class=\"dataframe\">\n",
              "  <thead>\n",
              "    <tr style=\"text-align: right;\">\n",
              "      <th></th>\n",
              "      <th>A</th>\n",
              "      <th>B</th>\n",
              "      <th>C</th>\n",
              "      <th>D</th>\n",
              "      <th>E</th>\n",
              "    </tr>\n",
              "  </thead>\n",
              "  <tbody>\n",
              "    <tr>\n",
              "      <th>1</th>\n",
              "      <td>11.057972</td>\n",
              "      <td>11.981675</td>\n",
              "      <td>6.954934</td>\n",
              "      <td>8.902518</td>\n",
              "      <td>10.532753</td>\n",
              "    </tr>\n",
              "    <tr>\n",
              "      <th>2</th>\n",
              "      <td>10.684240</td>\n",
              "      <td>7.130037</td>\n",
              "      <td>12.167159</td>\n",
              "      <td>7.642157</td>\n",
              "      <td>7.478512</td>\n",
              "    </tr>\n",
              "    <tr>\n",
              "      <th>3</th>\n",
              "      <td>10.094722</td>\n",
              "      <td>13.944927</td>\n",
              "      <td>6.399722</td>\n",
              "      <td>10.778837</td>\n",
              "      <td>8.994950</td>\n",
              "    </tr>\n",
              "    <tr>\n",
              "      <th>4</th>\n",
              "      <td>7.069732</td>\n",
              "      <td>10.178782</td>\n",
              "      <td>10.419215</td>\n",
              "      <td>5.421663</td>\n",
              "      <td>11.259349</td>\n",
              "    </tr>\n",
              "    <tr>\n",
              "      <th>5</th>\n",
              "      <td>6.714093</td>\n",
              "      <td>16.135910</td>\n",
              "      <td>9.507968</td>\n",
              "      <td>7.611587</td>\n",
              "      <td>10.056651</td>\n",
              "    </tr>\n",
              "    <tr>\n",
              "      <th>6</th>\n",
              "      <td>3.706779</td>\n",
              "      <td>12.230562</td>\n",
              "      <td>5.210624</td>\n",
              "      <td>5.763155</td>\n",
              "      <td>13.055004</td>\n",
              "    </tr>\n",
              "    <tr>\n",
              "      <th>7</th>\n",
              "      <td>7.781963</td>\n",
              "      <td>10.773547</td>\n",
              "      <td>9.824201</td>\n",
              "      <td>9.133181</td>\n",
              "      <td>12.648721</td>\n",
              "    </tr>\n",
              "    <tr>\n",
              "      <th>8</th>\n",
              "      <td>9.682960</td>\n",
              "      <td>9.502148</td>\n",
              "      <td>10.664221</td>\n",
              "      <td>11.400932</td>\n",
              "      <td>7.089598</td>\n",
              "    </tr>\n",
              "    <tr>\n",
              "      <th>9</th>\n",
              "      <td>14.045259</td>\n",
              "      <td>6.634204</td>\n",
              "      <td>7.876173</td>\n",
              "      <td>6.854169</td>\n",
              "      <td>5.144289</td>\n",
              "    </tr>\n",
              "    <tr>\n",
              "      <th>10</th>\n",
              "      <td>10.734820</td>\n",
              "      <td>7.572457</td>\n",
              "      <td>8.912426</td>\n",
              "      <td>15.834368</td>\n",
              "      <td>10.325447</td>\n",
              "    </tr>\n",
              "    <tr>\n",
              "      <th>11</th>\n",
              "      <td>11.668003</td>\n",
              "      <td>6.348327</td>\n",
              "      <td>15.905655</td>\n",
              "      <td>9.428098</td>\n",
              "      <td>8.062525</td>\n",
              "    </tr>\n",
              "    <tr>\n",
              "      <th>12</th>\n",
              "      <td>11.761915</td>\n",
              "      <td>7.624103</td>\n",
              "      <td>11.439321</td>\n",
              "      <td>13.050631</td>\n",
              "      <td>1.884825</td>\n",
              "    </tr>\n",
              "    <tr>\n",
              "      <th>13</th>\n",
              "      <td>8.357925</td>\n",
              "      <td>10.241512</td>\n",
              "      <td>9.095538</td>\n",
              "      <td>12.113923</td>\n",
              "      <td>8.687804</td>\n",
              "    </tr>\n",
              "    <tr>\n",
              "      <th>14</th>\n",
              "      <td>13.512720</td>\n",
              "      <td>16.253934</td>\n",
              "      <td>7.010582</td>\n",
              "      <td>10.450495</td>\n",
              "      <td>7.019895</td>\n",
              "    </tr>\n",
              "    <tr>\n",
              "      <th>15</th>\n",
              "      <td>10.655055</td>\n",
              "      <td>10.632223</td>\n",
              "      <td>9.523188</td>\n",
              "      <td>12.501351</td>\n",
              "      <td>12.434691</td>\n",
              "    </tr>\n",
              "    <tr>\n",
              "      <th>16</th>\n",
              "      <td>8.662366</td>\n",
              "      <td>10.879266</td>\n",
              "      <td>8.789837</td>\n",
              "      <td>6.502300</td>\n",
              "      <td>9.720963</td>\n",
              "    </tr>\n",
              "    <tr>\n",
              "      <th>17</th>\n",
              "      <td>5.389360</td>\n",
              "      <td>8.230641</td>\n",
              "      <td>9.269344</td>\n",
              "      <td>11.263244</td>\n",
              "      <td>9.725851</td>\n",
              "    </tr>\n",
              "    <tr>\n",
              "      <th>18</th>\n",
              "      <td>10.130218</td>\n",
              "      <td>10.611013</td>\n",
              "      <td>7.284877</td>\n",
              "      <td>13.978042</td>\n",
              "      <td>9.462523</td>\n",
              "    </tr>\n",
              "    <tr>\n",
              "      <th>19</th>\n",
              "      <td>14.840917</td>\n",
              "      <td>11.505428</td>\n",
              "      <td>7.365176</td>\n",
              "      <td>9.718541</td>\n",
              "      <td>12.551290</td>\n",
              "    </tr>\n",
              "    <tr>\n",
              "      <th>20</th>\n",
              "      <td>7.248158</td>\n",
              "      <td>11.493915</td>\n",
              "      <td>15.144592</td>\n",
              "      <td>14.213850</td>\n",
              "      <td>12.711898</td>\n",
              "    </tr>\n",
              "  </tbody>\n",
              "</table>\n",
              "</div>\n",
              "      <button class=\"colab-df-convert\" onclick=\"convertToInteractive('df-dfd77be1-2f64-4961-87e7-e0ad383b67c0')\"\n",
              "              title=\"Convert this dataframe to an interactive table.\"\n",
              "              style=\"display:none;\">\n",
              "        \n",
              "  <svg xmlns=\"http://www.w3.org/2000/svg\" height=\"24px\"viewBox=\"0 0 24 24\"\n",
              "       width=\"24px\">\n",
              "    <path d=\"M0 0h24v24H0V0z\" fill=\"none\"/>\n",
              "    <path d=\"M18.56 5.44l.94 2.06.94-2.06 2.06-.94-2.06-.94-.94-2.06-.94 2.06-2.06.94zm-11 1L8.5 8.5l.94-2.06 2.06-.94-2.06-.94L8.5 2.5l-.94 2.06-2.06.94zm10 10l.94 2.06.94-2.06 2.06-.94-2.06-.94-.94-2.06-.94 2.06-2.06.94z\"/><path d=\"M17.41 7.96l-1.37-1.37c-.4-.4-.92-.59-1.43-.59-.52 0-1.04.2-1.43.59L10.3 9.45l-7.72 7.72c-.78.78-.78 2.05 0 2.83L4 21.41c.39.39.9.59 1.41.59.51 0 1.02-.2 1.41-.59l7.78-7.78 2.81-2.81c.8-.78.8-2.07 0-2.86zM5.41 20L4 18.59l7.72-7.72 1.47 1.35L5.41 20z\"/>\n",
              "  </svg>\n",
              "      </button>\n",
              "      \n",
              "  <style>\n",
              "    .colab-df-container {\n",
              "      display:flex;\n",
              "      flex-wrap:wrap;\n",
              "      gap: 12px;\n",
              "    }\n",
              "\n",
              "    .colab-df-convert {\n",
              "      background-color: #E8F0FE;\n",
              "      border: none;\n",
              "      border-radius: 50%;\n",
              "      cursor: pointer;\n",
              "      display: none;\n",
              "      fill: #1967D2;\n",
              "      height: 32px;\n",
              "      padding: 0 0 0 0;\n",
              "      width: 32px;\n",
              "    }\n",
              "\n",
              "    .colab-df-convert:hover {\n",
              "      background-color: #E2EBFA;\n",
              "      box-shadow: 0px 1px 2px rgba(60, 64, 67, 0.3), 0px 1px 3px 1px rgba(60, 64, 67, 0.15);\n",
              "      fill: #174EA6;\n",
              "    }\n",
              "\n",
              "    [theme=dark] .colab-df-convert {\n",
              "      background-color: #3B4455;\n",
              "      fill: #D2E3FC;\n",
              "    }\n",
              "\n",
              "    [theme=dark] .colab-df-convert:hover {\n",
              "      background-color: #434B5C;\n",
              "      box-shadow: 0px 1px 3px 1px rgba(0, 0, 0, 0.15);\n",
              "      filter: drop-shadow(0px 1px 2px rgba(0, 0, 0, 0.3));\n",
              "      fill: #FFFFFF;\n",
              "    }\n",
              "  </style>\n",
              "\n",
              "      <script>\n",
              "        const buttonEl =\n",
              "          document.querySelector('#df-dfd77be1-2f64-4961-87e7-e0ad383b67c0 button.colab-df-convert');\n",
              "        buttonEl.style.display =\n",
              "          google.colab.kernel.accessAllowed ? 'block' : 'none';\n",
              "\n",
              "        async function convertToInteractive(key) {\n",
              "          const element = document.querySelector('#df-dfd77be1-2f64-4961-87e7-e0ad383b67c0');\n",
              "          const dataTable =\n",
              "            await google.colab.kernel.invokeFunction('convertToInteractive',\n",
              "                                                     [key], {});\n",
              "          if (!dataTable) return;\n",
              "\n",
              "          const docLinkHtml = 'Like what you see? Visit the ' +\n",
              "            '<a target=\"_blank\" href=https://colab.research.google.com/notebooks/data_table.ipynb>data table notebook</a>'\n",
              "            + ' to learn more about interactive tables.';\n",
              "          element.innerHTML = '';\n",
              "          dataTable['output_type'] = 'display_data';\n",
              "          await google.colab.output.renderOutput(dataTable, element);\n",
              "          const docLink = document.createElement('div');\n",
              "          docLink.innerHTML = docLinkHtml;\n",
              "          element.appendChild(docLink);\n",
              "        }\n",
              "      </script>\n",
              "    </div>\n",
              "  </div>\n",
              "  "
            ]
          },
          "metadata": {},
          "execution_count": 80
        }
      ]
    },
    {
      "cell_type": "code",
      "source": [
        "'''\n",
        "Exercício 3\n",
        "Gere uma distribuição normal padrão e utilize o módulo Seaborn para construir uma visualização dos dados. \n",
        "A amostra deve conter 3000 números. Use a função distplot() do módulo Seaborn e importe também\n",
        "'''"
      ],
      "metadata": {
        "colab": {
          "base_uri": "https://localhost:8080/",
          "height": 71
        },
        "id": "rFck0sVMdts9",
        "outputId": "0f8f8342-58b9-4594-905c-948a1b7a589c"
      },
      "execution_count": 81,
      "outputs": [
        {
          "output_type": "execute_result",
          "data": {
            "text/plain": [
              "'\\nExercício 3\\nGere uma distribuição normal padrão e utilize o módulo Seaborn para construir uma visualização dos dados. \\nA amostra deve conter 3000 números. Use a função distplot() do módulo Seaborn e importe também\\n'"
            ],
            "application/vnd.google.colaboratory.intrinsic+json": {
              "type": "string"
            }
          },
          "metadata": {},
          "execution_count": 51
        },
        {
          "output_type": "execute_result",
          "data": {
            "text/plain": [
              "'\\nExercício 3\\nGere uma distribuição normal padrão e utilize o módulo Seaborn para construir uma visualização dos dados. \\nA amostra deve conter 3000 números. Use a função distplot() do módulo Seaborn e importe também\\n'"
            ],
            "application/vnd.google.colaboratory.intrinsic+json": {
              "type": "string"
            }
          },
          "metadata": {},
          "execution_count": 81
        }
      ]
    },
    {
      "cell_type": "code",
      "source": [
        "import matplotlib.pyplot as plt\n",
        "import  seaborn as sns\n",
        "\n",
        "data = np.random.normal(size = (3000))\n",
        "sns.displot(data, kind = 'kde')\n",
        "plt.show()"
      ],
      "metadata": {
        "colab": {
          "base_uri": "https://localhost:8080/",
          "height": 721
        },
        "id": "vVXdyvlLfqQ1",
        "outputId": "6eadb13a-dc27-41ee-94fc-33f09efafc9f"
      },
      "execution_count": 82,
      "outputs": [
        {
          "output_type": "display_data",
          "data": {
            "text/plain": [
              "<Figure size 360x360 with 1 Axes>"
            ],
            "image/png": "[encoded data removed]"
          },
          "metadata": {
            "needs_background": "light"
          }
        },
        {
          "output_type": "display_data",
          "data": {
            "text/plain": [
              "<Figure size 360x360 with 1 Axes>"
            ],
            "image/png": "[encoded data removed]"
          },
          "metadata": {
            "needs_background": "light"
          }
        }
      ]
    },
    {
      "cell_type": "code",
      "source": [
        "sns.displot(data, kind = 'hist')\n",
        "plt.show()"
      ],
      "metadata": {
        "colab": {
          "base_uri": "https://localhost:8080/",
          "height": 721
        },
        "id": "_ZNK7WJhftns",
        "outputId": "088011c9-0386-4428-ba68-fd018a1a1ece"
      },
      "execution_count": 83,
      "outputs": [
        {
          "output_type": "display_data",
          "data": {
            "text/plain": [
              "<Figure size 360x360 with 1 Axes>"
            ],
            "image/png": "[encoded data removed]"
          },
          "metadata": {
            "needs_background": "light"
          }
        },
        {
          "output_type": "display_data",
          "data": {
            "text/plain": [
              "<Figure size 360x360 with 1 Axes>"
            ],
            "image/png": "[encoded data removed]"
          },
          "metadata": {
            "needs_background": "light"
          }
        }
      ]
    },
    {
      "cell_type": "code",
      "source": [
        "'''\n",
        "Exercício 4\n",
        "A distribuição binomial é uma distribuição discreta de probabilidade e descreve resultados binários, \n",
        "como sucesso e fracasso ou cara e coroa, por exemplo. \n",
        "Podemos criar dados aleatórios para esta distribuição com a função np.random.binomial().Sendo:\n",
        "\n",
        "n: número de tentativas;\n",
        "\n",
        "p: probabilidade de ocorrência de cada tentativa;\n",
        "\n",
        "size: tamanho do vetor retornado (shape).\n",
        "\n",
        "Com base nestas informações:\n",
        "\n",
        "Gere números aleatórios seguindo uma distribuição binomial, com 6 tentativas, \n",
        "em que a probabilidade de ocorrência de cada tentativa é 0.5, e tamanho 100. \n",
        "Armazene os dados em uma variável, 'data1'.\n",
        "\n",
        "Gere números aleatórios seguindo uma distribuição binomial, com 2 tentativas, \n",
        "em que a probabilidade de ocorrência de cada tentativa é 0.8, e tamanho 1000. \n",
        "Armazene os dados em uma variável, 'data2'.\n",
        "'''"
      ],
      "metadata": {
        "id": "z8gjWoC5gDAD",
        "colab": {
          "base_uri": "https://localhost:8080/",
          "height": 227
        },
        "outputId": "e084ef4d-0982-4f40-d965-925a685d6810"
      },
      "execution_count": 84,
      "outputs": [
        {
          "output_type": "execute_result",
          "data": {
            "text/plain": [
              "\"\\nExercício 4\\nA distribuição binomial é uma distribuição discreta de probabilidade e descreve resultados binários, \\ncomo sucesso e fracasso ou cara e coroa, por exemplo. \\nPodemos criar dados aleatórios para esta distribuição com a função np.random.binomial().Sendo:\\n\\nn: número de tentativas;\\n\\np: probabilidade de ocorrência de cada tentativa;\\n\\nsize: tamanho do vetor retornado (shape).\\n\\nCom base nestas informações:\\n\\nGere números aleatórios seguindo uma distribuição binomial, com 6 tentativas, \\nem que a probabilidade de ocorrência de cada tentativa é 0.5, e tamanho 100. \\nArmazene os dados em uma variável, 'data1'.\\n\\nGere números aleatórios seguindo uma distribuição binomial, com 2 tentativas, \\nem que a probabilidade de ocorrência de cada tentativa é 0.8, e tamanho 1000. \\nArmazene os dados em uma variável, 'data2'.\\n\""
            ],
            "application/vnd.google.colaboratory.intrinsic+json": {
              "type": "string"
            }
          },
          "metadata": {},
          "execution_count": 54
        },
        {
          "output_type": "execute_result",
          "data": {
            "text/plain": [
              "\"\\nExercício 4\\nA distribuição binomial é uma distribuição discreta de probabilidade e descreve resultados binários, \\ncomo sucesso e fracasso ou cara e coroa, por exemplo. \\nPodemos criar dados aleatórios para esta distribuição com a função np.random.binomial().Sendo:\\n\\nn: número de tentativas;\\n\\np: probabilidade de ocorrência de cada tentativa;\\n\\nsize: tamanho do vetor retornado (shape).\\n\\nCom base nestas informações:\\n\\nGere números aleatórios seguindo uma distribuição binomial, com 6 tentativas, \\nem que a probabilidade de ocorrência de cada tentativa é 0.5, e tamanho 100. \\nArmazene os dados em uma variável, 'data1'.\\n\\nGere números aleatórios seguindo uma distribuição binomial, com 2 tentativas, \\nem que a probabilidade de ocorrência de cada tentativa é 0.8, e tamanho 1000. \\nArmazene os dados em uma variável, 'data2'.\\n\""
            ],
            "application/vnd.google.colaboratory.intrinsic+json": {
              "type": "string"
            }
          },
          "metadata": {},
          "execution_count": 84
        }
      ]
    },
    {
      "cell_type": "code",
      "source": [
        "data1 = np.random.binomial(6, 0.5, 100)\n",
        "data2 = np.random.binomial(2, 0.8, 1000)"
      ],
      "metadata": {
        "id": "ByeSPRNnjD8e"
      },
      "execution_count": 85,
      "outputs": []
    },
    {
      "cell_type": "code",
      "source": [
        "'''\n",
        "Exercício 5\n",
        "Use o módulo Seaborn para visualizar a distribuição de números aleatórios oriunda de uma distribuição binomial, \n",
        "com 6 tentativas, probabilidade 0.5 e tamanho 3000.\n",
        "'''"
      ],
      "metadata": {
        "id": "7maqKghVjLt0",
        "colab": {
          "base_uri": "https://localhost:8080/",
          "height": 71
        },
        "outputId": "e57f9191-6254-4842-a9e0-3c575f72b76c"
      },
      "execution_count": 86,
      "outputs": [
        {
          "output_type": "execute_result",
          "data": {
            "text/plain": [
              "'\\nExercício 5\\nUse o módulo Seaborn para visualizar a distribuição de números aleatórios oriunda de uma distribuição binomial, \\ncom 6 tentativas, probabilidade 0.5 e tamanho 3000.\\n'"
            ],
            "application/vnd.google.colaboratory.intrinsic+json": {
              "type": "string"
            }
          },
          "metadata": {},
          "execution_count": 56
        },
        {
          "output_type": "execute_result",
          "data": {
            "text/plain": [
              "'\\nExercício 5\\nUse o módulo Seaborn para visualizar a distribuição de números aleatórios oriunda de uma distribuição binomial, \\ncom 6 tentativas, probabilidade 0.5 e tamanho 3000.\\n'"
            ],
            "application/vnd.google.colaboratory.intrinsic+json": {
              "type": "string"
            }
          },
          "metadata": {},
          "execution_count": 86
        }
      ]
    },
    {
      "cell_type": "code",
      "source": [
        "data = np.random.binomial(6, 0.5, size=(3000))"
      ],
      "metadata": {
        "id": "mZiriqRXNMII"
      },
      "execution_count": 87,
      "outputs": []
    },
    {
      "cell_type": "code",
      "source": [
        "import seaborn as sns\n",
        "import matplotlib.pyplot as plt\n",
        "sns.displot(data,kind='hist')\n",
        "plt.show() "
      ],
      "metadata": {
        "colab": {
          "base_uri": "https://localhost:8080/",
          "height": 721
        },
        "id": "fsP2FofiNUQB",
        "outputId": "c3b5eda6-cdc9-4654-898e-39add7a97932"
      },
      "execution_count": 88,
      "outputs": [
        {
          "output_type": "display_data",
          "data": {
            "text/plain": [
              "<Figure size 360x360 with 1 Axes>"
            ],
            "image/png": "[encoded data removed]"
          },
          "metadata": {
            "needs_background": "light"
          }
        },
        {
          "output_type": "display_data",
          "data": {
            "text/plain": [
              "<Figure size 360x360 with 1 Axes>"
            ],
            "image/png": "[encoded data removed]"
          },
          "metadata": {
            "needs_background": "light"
          }
        }
      ]
    },
    {
      "cell_type": "code",
      "source": [
        "#ou\n",
        "from numpy.random import binomial\n",
        "sns.displot(binomial(n = 6, p = 0.5, size = 3000), kind = 'hist')\n",
        "plt.show()"
      ],
      "metadata": {
        "colab": {
          "base_uri": "https://localhost:8080/",
          "height": 721
        },
        "id": "nBdCdrf-NmoB",
        "outputId": "38671475-897d-4ca5-e791-7cd018a1d4bd"
      },
      "execution_count": 89,
      "outputs": [
        {
          "output_type": "display_data",
          "data": {
            "text/plain": [
              "<Figure size 360x360 with 1 Axes>"
            ],
            "image/png": "[encoded data removed]"
          },
          "metadata": {
            "needs_background": "light"
          }
        },
        {
          "output_type": "display_data",
          "data": {
            "text/plain": [
              "<Figure size 360x360 with 1 Axes>"
            ],
            "image/png": "[encoded data removed]"
          },
          "metadata": {
            "needs_background": "light"
          }
        }
      ]
    },
    {
      "cell_type": "code",
      "source": [
        "'''\n",
        "Exercício 6\n",
        "A distribuição uniforme é uma distribuição contínua de probabilidade, \n",
        "com importantes aplicações em estatística. Gere uma amostra da distribuição uniforme de shape 3 x 3.\n",
        "Dica: use np.random.uniform().\n",
        "'''"
      ],
      "metadata": {
        "colab": {
          "base_uri": "https://localhost:8080/",
          "height": 88
        },
        "id": "mwIapeX0N_X5",
        "outputId": "2cf32355-0648-4344-abe6-a62e5e3fb011"
      },
      "execution_count": 90,
      "outputs": [
        {
          "output_type": "execute_result",
          "data": {
            "text/plain": [
              "'\\nExercício 6\\nA distribuição uniforme é uma distribuição contínua de probabilidade, \\ncom importantes aplicações em estatística. Gere uma amostra da distribuição uniforme de shape 3 x 3.\\nDica: use np.random.uniform().\\n'"
            ],
            "application/vnd.google.colaboratory.intrinsic+json": {
              "type": "string"
            }
          },
          "metadata": {},
          "execution_count": 60
        },
        {
          "output_type": "execute_result",
          "data": {
            "text/plain": [
              "'\\nExercício 6\\nA distribuição uniforme é uma distribuição contínua de probabilidade, \\ncom importantes aplicações em estatística. Gere uma amostra da distribuição uniforme de shape 3 x 3.\\nDica: use np.random.uniform().\\n'"
            ],
            "application/vnd.google.colaboratory.intrinsic+json": {
              "type": "string"
            }
          },
          "metadata": {},
          "execution_count": 90
        }
      ]
    },
    {
      "cell_type": "code",
      "source": [
        "data = np.random.uniform(size=(3,3))\n",
        "data"
      ],
      "metadata": {
        "colab": {
          "base_uri": "https://localhost:8080/"
        },
        "id": "nflR7nLHPtdb",
        "outputId": "3f022bb7-3191-4824-a7a6-3c094f317797"
      },
      "execution_count": 91,
      "outputs": [
        {
          "output_type": "execute_result",
          "data": {
            "text/plain": [
              "array([[0.32692693, 0.59896282, 0.3638445 ],\n",
              "       [0.65110271, 0.66803464, 0.04043178],\n",
              "       [0.45070647, 0.60439448, 0.74196045]])"
            ]
          },
          "metadata": {},
          "execution_count": 61
        },
        {
          "output_type": "execute_result",
          "data": {
            "text/plain": [
              "array([[0.42967567, 0.8931277 , 0.92354965],\n",
              "       [0.81261876, 0.33178285, 0.82100207],\n",
              "       [0.21057667, 0.10423038, 0.94545917]])"
            ]
          },
          "metadata": {},
          "execution_count": 91
        }
      ]
    },
    {
      "cell_type": "code",
      "source": [
        "'''\n",
        "Exercício 7\n",
        "Use o módulo Seaborn para visualizar a distribuição de números aleatórios \n",
        "oriunda de uma distribuição uniforme, de tamanho 1000.\n",
        "'''"
      ],
      "metadata": {
        "colab": {
          "base_uri": "https://localhost:8080/",
          "height": 71
        },
        "id": "N0NA13twPxIP",
        "outputId": "7d9db3da-674b-4623-9152-6bd1d68b8158"
      },
      "execution_count": 92,
      "outputs": [
        {
          "output_type": "execute_result",
          "data": {
            "text/plain": [
              "'\\nExercício 7\\nUse o módulo Seaborn para visualizar a distribuição de números aleatórios \\noriunda de uma distribuição uniforme, de tamanho 1000.\\n'"
            ],
            "application/vnd.google.colaboratory.intrinsic+json": {
              "type": "string"
            }
          },
          "metadata": {},
          "execution_count": 62
        },
        {
          "output_type": "execute_result",
          "data": {
            "text/plain": [
              "'\\nExercício 7\\nUse o módulo Seaborn para visualizar a distribuição de números aleatórios \\noriunda de uma distribuição uniforme, de tamanho 1000.\\n'"
            ],
            "application/vnd.google.colaboratory.intrinsic+json": {
              "type": "string"
            }
          },
          "metadata": {},
          "execution_count": 92
        }
      ]
    },
    {
      "cell_type": "code",
      "source": [
        "import seaborn as sns\n",
        "import matplotlib.pyplot as plt\n",
        "data = np.random.uniform(size=(1000))\n",
        "sns.displot(data, kind='hist')\n",
        "plt.show();"
      ],
      "metadata": {
        "colab": {
          "base_uri": "https://localhost:8080/",
          "height": 721
        },
        "id": "NZhjfcg9QP7P",
        "outputId": "9ee288d0-e6db-4af8-9e17-0e4011fbfcf7"
      },
      "execution_count": 93,
      "outputs": [
        {
          "output_type": "display_data",
          "data": {
            "text/plain": [
              "<Figure size 360x360 with 1 Axes>"
            ],
            "image/png": "[encoded data removed]"
          },
          "metadata": {
            "needs_background": "light"
          }
        },
        {
          "output_type": "display_data",
          "data": {
            "text/plain": [
              "<Figure size 360x360 with 1 Axes>"
            ],
            "image/png": "[encoded data removed]"
          },
          "metadata": {
            "needs_background": "light"
          }
        }
      ]
    },
    {
      "cell_type": "code",
      "source": [
        "sns.displot(data, kind='kde')\n",
        "plt.show()"
      ],
      "metadata": {
        "colab": {
          "base_uri": "https://localhost:8080/",
          "height": 721
        },
        "id": "kY1fKIFeQiQp",
        "outputId": "451fd61e-8261-4ceb-f7d7-32baa810d99e"
      },
      "execution_count": 94,
      "outputs": [
        {
          "output_type": "display_data",
          "data": {
            "text/plain": [
              "<Figure size 360x360 with 1 Axes>"
            ],
            "image/png": "[encoded data removed]"
          },
          "metadata": {
            "needs_background": "light"
          }
        },
        {
          "output_type": "display_data",
          "data": {
            "text/plain": [
              "<Figure size 360x360 with 1 Axes>"
            ],
            "image/png": "[encoded data removed]"
          },
          "metadata": {
            "needs_background": "light"
          }
        }
      ]
    },
    {
      "cell_type": "code",
      "source": [
        "'''\n",
        "Exercício 8\n",
        "Gere um array com números aleatórios entre -1000 e 3000, de shape (30, 5).\n",
        "Dica: np.random.randint().\n",
        "'''"
      ],
      "metadata": {
        "colab": {
          "base_uri": "https://localhost:8080/",
          "height": 54
        },
        "id": "wSzp43NIQqij",
        "outputId": "1b26a54d-2e38-4f5d-ecc4-b1960a06a921"
      },
      "execution_count": 95,
      "outputs": [
        {
          "output_type": "execute_result",
          "data": {
            "text/plain": [
              "'\\nExercício 8\\nGere um array com números aleatórios entre -1000 e 3000, de shape (30, 5).\\nDica: np.random.randint().\\n'"
            ],
            "application/vnd.google.colaboratory.intrinsic+json": {
              "type": "string"
            }
          },
          "metadata": {},
          "execution_count": 65
        },
        {
          "output_type": "execute_result",
          "data": {
            "text/plain": [
              "'\\nExercício 8\\nGere um array com números aleatórios entre -1000 e 3000, de shape (30, 5).\\nDica: np.random.randint().\\n'"
            ],
            "application/vnd.google.colaboratory.intrinsic+json": {
              "type": "string"
            }
          },
          "metadata": {},
          "execution_count": 95
        }
      ]
    },
    {
      "cell_type": "code",
      "source": [
        "data = np.random.randint(-1000, 3000, size=(30, 5))\n",
        "data"
      ],
      "metadata": {
        "colab": {
          "base_uri": "https://localhost:8080/"
        },
        "id": "CQv_QqAXRGuU",
        "outputId": "60535bf2-edf1-4bb6-cf35-820cd919347d"
      },
      "execution_count": 96,
      "outputs": [
        {
          "output_type": "execute_result",
          "data": {
            "text/plain": [
              "array([[ 306, 1780, 2677, -790, 1340],\n",
              "       [ 752,  934, 1595,  179,  531],\n",
              "       [1202, 2439, 1394, 2321,  198],\n",
              "       [ 161, 2264, 1969,  496, -351],\n",
              "       [2707, 2527, 2311, 2470, 2565],\n",
              "       [1929, 2435, 1776,  781, 1030],\n",
              "       [ 442, 1469, 2979, 2934, 2294],\n",
              "       [ 356,  165, 2828,  954, 2719],\n",
              "       [ 817, -546,  -54, -104, 2775],\n",
              "       [ 568, 2595, -608, 1248, 2732],\n",
              "       [1342, 1248, 1931, -898, 1208],\n",
              "       [-710, 2423,  170,  372, -957],\n",
              "       [ 627, -343,  503,   44, 2685],\n",
              "       [ -78,  625, 1120, 1398, -537],\n",
              "       [-384, 2404, 2483, 1898, 1842],\n",
              "       [ 677, 1643, -373, 1371, 2737],\n",
              "       [-900,  206, -752,  954, 1304],\n",
              "       [1055, 1155, 1138, -960, -642],\n",
              "       [1348,  577, 2390, 2830, -504],\n",
              "       [ 801, -415, -180, -659, -349],\n",
              "       [ 174, -412, -466, 1833, 2685],\n",
              "       [2498, 1661,  703,  424, 2278],\n",
              "       [-454, 1845,  596, -999,  842],\n",
              "       [ 553, 1982, 2780, -231, 2941],\n",
              "       [1595, 2678,  128,  672, 1456],\n",
              "       [1184, 2327, -272, 1525, 2345],\n",
              "       [ 187, 1881,   95, -653,  575],\n",
              "       [ 901, -189,  257, 2312, 1799],\n",
              "       [-760, 1516,  705, 2697, 1751],\n",
              "       [-647,  161, 1185, 1965, -290]])"
            ]
          },
          "metadata": {},
          "execution_count": 66
        },
        {
          "output_type": "execute_result",
          "data": {
            "text/plain": [
              "array([[-734, 1326, -208, -761,  -56],\n",
              "       [1812,  644, 1688, 2948, -296],\n",
              "       [1018, -726, 2983, -398,  796],\n",
              "       [ 864, -306,  212, 2891, 2492],\n",
              "       [-487, 1767, 1614, -174, 1462],\n",
              "       [2826, 1081, -956, 2020, 1822],\n",
              "       [1440, -338,  494, -296,  401],\n",
              "       [1341,  141, -272, 1774, 1198],\n",
              "       [1398, 1120, -442, 1820, -839],\n",
              "       [1749, 1249, 2334,  714, 2900],\n",
              "       [-310, 2261, 2813, 1600,  987],\n",
              "       [-154, 1384, 2324, 2470, 1584],\n",
              "       [1847,  243,  682, 1646, 2485],\n",
              "       [ 576, -670,  -16, -956, 2003],\n",
              "       [-530,  -93, 2737,  136, 1689],\n",
              "       [2842, -443,  253, 1619, 1356],\n",
              "       [ 574, 1545, 1701, 2257, 1032],\n",
              "       [ 822, -118, 1199, 1260,  971],\n",
              "       [-673,  546, 2600, -279, -722],\n",
              "       [ 293, -660, 2664,  122,  441],\n",
              "       [1351, 2420, -146, 2177, 1163],\n",
              "       [1333, 2515, 1402, 2000, 2328],\n",
              "       [ 377, 2843, -901, 2559,  790],\n",
              "       [ 761, 2888, 2467, -809, 2407],\n",
              "       [2509,  323, 1159, 1257, 2378],\n",
              "       [1948, 2649, 1008,  773, 2418],\n",
              "       [2220, -375, -494,   11,  -38],\n",
              "       [1847, 2356, -570,   51,  400],\n",
              "       [1408, 1803, -368, 1690,  405],\n",
              "       [1662, 1029, 1572, 1781, 2910]])"
            ]
          },
          "metadata": {},
          "execution_count": 96
        }
      ]
    },
    {
      "cell_type": "code",
      "source": [
        "'''\n",
        "Exercício 9\n",
        "Gere um array de shape 30 x 5 com números entre 0 e 4, inclusive.\n",
        "'''"
      ],
      "metadata": {
        "colab": {
          "base_uri": "https://localhost:8080/",
          "height": 54
        },
        "id": "xGdX50NiRNvQ",
        "outputId": "2e3f4f65-7278-44ce-de92-6c6dcb5036e4"
      },
      "execution_count": 97,
      "outputs": [
        {
          "output_type": "execute_result",
          "data": {
            "text/plain": [
              "'\\nExercício 9\\nGere um array de shape 30 x 5 com números entre 0 e 4, inclusive.\\n'"
            ],
            "application/vnd.google.colaboratory.intrinsic+json": {
              "type": "string"
            }
          },
          "metadata": {},
          "execution_count": 67
        },
        {
          "output_type": "execute_result",
          "data": {
            "text/plain": [
              "'\\nExercício 9\\nGere um array de shape 30 x 5 com números entre 0 e 4, inclusive.\\n'"
            ],
            "application/vnd.google.colaboratory.intrinsic+json": {
              "type": "string"
            }
          },
          "metadata": {},
          "execution_count": 97
        }
      ]
    },
    {
      "cell_type": "code",
      "source": [
        "data = np.random.randint(5, size=(30, 5))\n",
        "data"
      ],
      "metadata": {
        "colab": {
          "base_uri": "https://localhost:8080/"
        },
        "id": "LvNaEg50RrB5",
        "outputId": "ba109480-0f9f-4614-a49e-469d4a0ff730"
      },
      "execution_count": 98,
      "outputs": [
        {
          "output_type": "execute_result",
          "data": {
            "text/plain": [
              "array([[2, 1, 4, 4, 4],\n",
              "       [1, 2, 1, 0, 2],\n",
              "       [1, 4, 4, 0, 1],\n",
              "       [0, 2, 4, 4, 2],\n",
              "       [3, 4, 0, 2, 3],\n",
              "       [0, 0, 1, 2, 4],\n",
              "       [0, 1, 0, 1, 2],\n",
              "       [1, 3, 0, 4, 0],\n",
              "       [2, 2, 1, 0, 0],\n",
              "       [0, 4, 2, 4, 1],\n",
              "       [4, 4, 1, 3, 1],\n",
              "       [2, 2, 4, 3, 3],\n",
              "       [3, 4, 0, 0, 3],\n",
              "       [1, 0, 3, 3, 2],\n",
              "       [0, 4, 0, 1, 0],\n",
              "       [1, 3, 0, 3, 4],\n",
              "       [2, 4, 4, 1, 0],\n",
              "       [4, 1, 0, 3, 2],\n",
              "       [3, 1, 3, 2, 2],\n",
              "       [1, 3, 3, 0, 0],\n",
              "       [0, 3, 1, 1, 1],\n",
              "       [4, 0, 1, 1, 3],\n",
              "       [1, 4, 1, 3, 3],\n",
              "       [4, 2, 4, 4, 1],\n",
              "       [0, 3, 0, 0, 4],\n",
              "       [2, 2, 0, 1, 1],\n",
              "       [2, 3, 2, 2, 3],\n",
              "       [3, 1, 0, 1, 4],\n",
              "       [1, 2, 3, 0, 0],\n",
              "       [1, 1, 1, 4, 3]])"
            ]
          },
          "metadata": {},
          "execution_count": 68
        },
        {
          "output_type": "execute_result",
          "data": {
            "text/plain": [
              "array([[0, 3, 0, 2, 3],\n",
              "       [2, 0, 1, 4, 0],\n",
              "       [3, 0, 4, 1, 2],\n",
              "       [3, 4, 3, 1, 1],\n",
              "       [4, 2, 1, 1, 3],\n",
              "       [2, 1, 1, 3, 1],\n",
              "       [4, 3, 0, 1, 4],\n",
              "       [1, 1, 2, 4, 1],\n",
              "       [4, 2, 2, 0, 0],\n",
              "       [4, 2, 0, 2, 4],\n",
              "       [4, 1, 3, 0, 0],\n",
              "       [1, 4, 2, 4, 2],\n",
              "       [1, 3, 0, 1, 1],\n",
              "       [4, 0, 4, 3, 3],\n",
              "       [3, 4, 3, 1, 3],\n",
              "       [3, 1, 0, 2, 0],\n",
              "       [2, 2, 3, 1, 4],\n",
              "       [3, 4, 0, 1, 4],\n",
              "       [1, 3, 3, 3, 0],\n",
              "       [0, 1, 0, 2, 2],\n",
              "       [2, 0, 2, 0, 4],\n",
              "       [4, 1, 3, 3, 4],\n",
              "       [4, 0, 3, 4, 2],\n",
              "       [3, 1, 0, 4, 3],\n",
              "       [0, 2, 4, 0, 3],\n",
              "       [4, 1, 1, 4, 4],\n",
              "       [4, 4, 0, 2, 3],\n",
              "       [3, 0, 3, 4, 0],\n",
              "       [3, 0, 3, 3, 1],\n",
              "       [1, 0, 2, 0, 0]])"
            ]
          },
          "metadata": {},
          "execution_count": 98
        }
      ]
    },
    {
      "cell_type": "code",
      "source": [
        "'''\n",
        "Exercício 10\n",
        "Gere um array de números inteiros com limites superiores diferentes (100, 300, 50, 10000), mas com valor mínimo 10.\n",
        "'''"
      ],
      "metadata": {
        "colab": {
          "base_uri": "https://localhost:8080/",
          "height": 54
        },
        "id": "WLlIbKiZRu_I",
        "outputId": "34783b25-a0df-43c4-ce6f-54945955ce31"
      },
      "execution_count": 99,
      "outputs": [
        {
          "output_type": "execute_result",
          "data": {
            "text/plain": [
              "'\\nExercício 10\\nGere um array de números inteiros com limites superiores diferentes (100, 300, 50, 10000), mas com valor mínimo 10.\\n'"
            ],
            "application/vnd.google.colaboratory.intrinsic+json": {
              "type": "string"
            }
          },
          "metadata": {},
          "execution_count": 69
        },
        {
          "output_type": "execute_result",
          "data": {
            "text/plain": [
              "'\\nExercício 10\\nGere um array de números inteiros com limites superiores diferentes (100, 300, 50, 10000), mas com valor mínimo 10.\\n'"
            ],
            "application/vnd.google.colaboratory.intrinsic+json": {
              "type": "string"
            }
          },
          "metadata": {},
          "execution_count": 99
        }
      ]
    },
    {
      "cell_type": "code",
      "source": [
        "data = np.random.randint(low = 10, high = [100, 300, 50, 10_000])\n",
        "data"
      ],
      "metadata": {
        "colab": {
          "base_uri": "https://localhost:8080/"
        },
        "id": "ePiuZAWiS3nb",
        "outputId": "46634d3d-a052-4a5e-e0df-ef927280716a"
      },
      "execution_count": 100,
      "outputs": [
        {
          "output_type": "execute_result",
          "data": {
            "text/plain": [
              "array([  52,  188,   41, 4432])"
            ]
          },
          "metadata": {},
          "execution_count": 70
        },
        {
          "output_type": "execute_result",
          "data": {
            "text/plain": [
              "array([  16,  142,   49, 3204])"
            ]
          },
          "metadata": {},
          "execution_count": 100
        }
      ]
    },
    {
      "cell_type": "code",
      "source": [
        "'''\n",
        "Exercício 11\n",
        "Utilize a função np.random.rand() para gerar um array 10 x 5. \n",
        "Lembre que esta função gera por padrão números aleatórios de acordo com uma \n",
        "distribuição uniforme no intervalo [0,1). \n",
        "Em seguida mostre na tela a média, desvio padrão e mediana do array gerado.\n",
        "'''"
      ],
      "metadata": {
        "colab": {
          "base_uri": "https://localhost:8080/",
          "height": 88
        },
        "id": "zqpHNzpFS94l",
        "outputId": "041099cf-7de4-4962-c799-6f0a2940c5b7"
      },
      "execution_count": 101,
      "outputs": [
        {
          "output_type": "execute_result",
          "data": {
            "text/plain": [
              "'\\nExercício 11\\nUtilize a função np.random.rand() para gerar um array 10 x 5. \\nLembre que esta função gera por padrão números aleatórios de acordo com uma \\ndistribuição uniforme no intervalo [0,1). \\nEm seguida mostre na tela a média, desvio padrão e mediana do array gerado.\\n'"
            ],
            "application/vnd.google.colaboratory.intrinsic+json": {
              "type": "string"
            }
          },
          "metadata": {},
          "execution_count": 71
        },
        {
          "output_type": "execute_result",
          "data": {
            "text/plain": [
              "'\\nExercício 11\\nUtilize a função np.random.rand() para gerar um array 10 x 5. \\nLembre que esta função gera por padrão números aleatórios de acordo com uma \\ndistribuição uniforme no intervalo [0,1). \\nEm seguida mostre na tela a média, desvio padrão e mediana do array gerado.\\n'"
            ],
            "application/vnd.google.colaboratory.intrinsic+json": {
              "type": "string"
            }
          },
          "metadata": {},
          "execution_count": 101
        }
      ]
    },
    {
      "cell_type": "code",
      "source": [
        "data = np.random.rand(10,5)\n",
        "print('Média do array: ', np.mean(data).round(2))\n",
        "print('Desvio Padrão do array: ', np.std(data).round(2))\n",
        "print('Médiana do array: ', np.median(data).round(2))"
      ],
      "metadata": {
        "colab": {
          "base_uri": "https://localhost:8080/"
        },
        "id": "pABqj5OlT6SJ",
        "outputId": "ec2a0064-d35b-4e13-eb0f-bd72d67fec92"
      },
      "execution_count": 102,
      "outputs": [
        {
          "output_type": "stream",
          "name": "stdout",
          "text": [
            "Média do array:  0.52\n",
            "Desvio Padrão do array:  0.31\n",
            "Médiana do array:  0.59\n",
            "Média do array:  0.54\n",
            "Desvio Padrão do array:  0.3\n",
            "Médiana do array:  0.53\n"
          ]
        }
      ]
    },
    {
      "cell_type": "code",
      "source": [
        "'''\n",
        "Exercício 12\n",
        "Use a função np.random.randn() para gerar um array com números \n",
        "aleatórios de uma distribuição normal padrão, de shape 30 x 3. Seguidamente, \n",
        "crie um DataFrame com os dados criados e gere uma \n",
        "visualização da distribuição de probabilidade de cada coluna com o módulo Seaborn.\n",
        "'''"
      ],
      "metadata": {
        "colab": {
          "base_uri": "https://localhost:8080/",
          "height": 106
        },
        "id": "g4RKPxBjVY5O",
        "outputId": "df076e96-a354-4d43-b033-1615791f517d"
      },
      "execution_count": 103,
      "outputs": [
        {
          "output_type": "execute_result",
          "data": {
            "text/plain": [
              "'\\nExercício 12\\nUse a função np.random.randn() para gerar um array com números \\naleatórios de uma distribuição normal padrão, de shape 30 x 3. Seguidamente, \\ncrie um DataFrame com os dados criados e gere uma \\nvisualização da distribuição de probabilidade de cada coluna com o módulo Seaborn.\\n'"
            ],
            "application/vnd.google.colaboratory.intrinsic+json": {
              "type": "string"
            }
          },
          "metadata": {},
          "execution_count": 73
        },
        {
          "output_type": "execute_result",
          "data": {
            "text/plain": [
              "'\\nExercício 12\\nUse a função np.random.randn() para gerar um array com números \\naleatórios de uma distribuição normal padrão, de shape 30 x 3. Seguidamente, \\ncrie um DataFrame com os dados criados e gere uma \\nvisualização da distribuição de probabilidade de cada coluna com o módulo Seaborn.\\n'"
            ],
            "application/vnd.google.colaboratory.intrinsic+json": {
              "type": "string"
            }
          },
          "metadata": {},
          "execution_count": 103
        }
      ]
    },
    {
      "cell_type": "code",
      "source": [
        "import pandas as pd\n",
        "data = np.random.randn(30,3)\n",
        "df = pd.DataFrame(data, columns=list('ABC'))\n",
        "df.head()"
      ],
      "metadata": {
        "colab": {
          "base_uri": "https://localhost:8080/",
          "height": 395
        },
        "id": "iOypJK-pY0TW",
        "outputId": "4abd9ba1-1121-4ef9-a58d-6e0b3ca64738"
      },
      "execution_count": 104,
      "outputs": [
        {
          "output_type": "execute_result",
          "data": {
            "text/plain": [
              "          A         B         C\n",
              "0  0.797406  0.583385 -0.049432\n",
              "1 -0.000613  0.121576  1.137261\n",
              "2 -1.696540 -0.990335  0.054412\n",
              "3  0.190997 -0.690284  1.945722\n",
              "4  1.319349 -0.424581 -1.291484"
            ],
            "text/html": [
              "\n",
              "  <div id=\"df-1fcec796-c70b-4ca3-a2af-92432cb57a1d\">\n",
              "    <div class=\"colab-df-container\">\n",
              "      <div>\n",
              "<style scoped>\n",
              "    .dataframe tbody tr th:only-of-type {\n",
              "        vertical-align: middle;\n",
              "    }\n",
              "\n",
              "    .dataframe tbody tr th {\n",
              "        vertical-align: top;\n",
              "    }\n",
              "\n",
              "    .dataframe thead th {\n",
              "        text-align: right;\n",
              "    }\n",
              "</style>\n",
              "<table border=\"1\" class=\"dataframe\">\n",
              "  <thead>\n",
              "    <tr style=\"text-align: right;\">\n",
              "      <th></th>\n",
              "      <th>A</th>\n",
              "      <th>B</th>\n",
              "      <th>C</th>\n",
              "    </tr>\n",
              "  </thead>\n",
              "  <tbody>\n",
              "    <tr>\n",
              "      <th>0</th>\n",
              "      <td>0.797406</td>\n",
              "      <td>0.583385</td>\n",
              "      <td>-0.049432</td>\n",
              "    </tr>\n",
              "    <tr>\n",
              "      <th>1</th>\n",
              "      <td>-0.000613</td>\n",
              "      <td>0.121576</td>\n",
              "      <td>1.137261</td>\n",
              "    </tr>\n",
              "    <tr>\n",
              "      <th>2</th>\n",
              "      <td>-1.696540</td>\n",
              "      <td>-0.990335</td>\n",
              "      <td>0.054412</td>\n",
              "    </tr>\n",
              "    <tr>\n",
              "      <th>3</th>\n",
              "      <td>0.190997</td>\n",
              "      <td>-0.690284</td>\n",
              "      <td>1.945722</td>\n",
              "    </tr>\n",
              "    <tr>\n",
              "      <th>4</th>\n",
              "      <td>1.319349</td>\n",
              "      <td>-0.424581</td>\n",
              "      <td>-1.291484</td>\n",
              "    </tr>\n",
              "  </tbody>\n",
              "</table>\n",
              "</div>\n",
              "      <button class=\"colab-df-convert\" onclick=\"convertToInteractive('df-1fcec796-c70b-4ca3-a2af-92432cb57a1d')\"\n",
              "              title=\"Convert this dataframe to an interactive table.\"\n",
              "              style=\"display:none;\">\n",
              "        \n",
              "  <svg xmlns=\"http://www.w3.org/2000/svg\" height=\"24px\"viewBox=\"0 0 24 24\"\n",
              "       width=\"24px\">\n",
              "    <path d=\"M0 0h24v24H0V0z\" fill=\"none\"/>\n",
              "    <path d=\"M18.56 5.44l.94 2.06.94-2.06 2.06-.94-2.06-.94-.94-2.06-.94 2.06-2.06.94zm-11 1L8.5 8.5l.94-2.06 2.06-.94-2.06-.94L8.5 2.5l-.94 2.06-2.06.94zm10 10l.94 2.06.94-2.06 2.06-.94-2.06-.94-.94-2.06-.94 2.06-2.06.94z\"/><path d=\"M17.41 7.96l-1.37-1.37c-.4-.4-.92-.59-1.43-.59-.52 0-1.04.2-1.43.59L10.3 9.45l-7.72 7.72c-.78.78-.78 2.05 0 2.83L4 21.41c.39.39.9.59 1.41.59.51 0 1.02-.2 1.41-.59l7.78-7.78 2.81-2.81c.8-.78.8-2.07 0-2.86zM5.41 20L4 18.59l7.72-7.72 1.47 1.35L5.41 20z\"/>\n",
              "  </svg>\n",
              "      </button>\n",
              "      \n",
              "  <style>\n",
              "    .colab-df-container {\n",
              "      display:flex;\n",
              "      flex-wrap:wrap;\n",
              "      gap: 12px;\n",
              "    }\n",
              "\n",
              "    .colab-df-convert {\n",
              "      background-color: #E8F0FE;\n",
              "      border: none;\n",
              "      border-radius: 50%;\n",
              "      cursor: pointer;\n",
              "      display: none;\n",
              "      fill: #1967D2;\n",
              "      height: 32px;\n",
              "      padding: 0 0 0 0;\n",
              "      width: 32px;\n",
              "    }\n",
              "\n",
              "    .colab-df-convert:hover {\n",
              "      background-color: #E2EBFA;\n",
              "      box-shadow: 0px 1px 2px rgba(60, 64, 67, 0.3), 0px 1px 3px 1px rgba(60, 64, 67, 0.15);\n",
              "      fill: #174EA6;\n",
              "    }\n",
              "\n",
              "    [theme=dark] .colab-df-convert {\n",
              "      background-color: #3B4455;\n",
              "      fill: #D2E3FC;\n",
              "    }\n",
              "\n",
              "    [theme=dark] .colab-df-convert:hover {\n",
              "      background-color: #434B5C;\n",
              "      box-shadow: 0px 1px 3px 1px rgba(0, 0, 0, 0.15);\n",
              "      filter: drop-shadow(0px 1px 2px rgba(0, 0, 0, 0.3));\n",
              "      fill: #FFFFFF;\n",
              "    }\n",
              "  </style>\n",
              "\n",
              "      <script>\n",
              "        const buttonEl =\n",
              "          document.querySelector('#df-1fcec796-c70b-4ca3-a2af-92432cb57a1d button.colab-df-convert');\n",
              "        buttonEl.style.display =\n",
              "          google.colab.kernel.accessAllowed ? 'block' : 'none';\n",
              "\n",
              "        async function convertToInteractive(key) {\n",
              "          const element = document.querySelector('#df-1fcec796-c70b-4ca3-a2af-92432cb57a1d');\n",
              "          const dataTable =\n",
              "            await google.colab.kernel.invokeFunction('convertToInteractive',\n",
              "                                                     [key], {});\n",
              "          if (!dataTable) return;\n",
              "\n",
              "          const docLinkHtml = 'Like what you see? Visit the ' +\n",
              "            '<a target=\"_blank\" href=https://colab.research.google.com/notebooks/data_table.ipynb>data table notebook</a>'\n",
              "            + ' to learn more about interactive tables.';\n",
              "          element.innerHTML = '';\n",
              "          dataTable['output_type'] = 'display_data';\n",
              "          await google.colab.output.renderOutput(dataTable, element);\n",
              "          const docLink = document.createElement('div');\n",
              "          docLink.innerHTML = docLinkHtml;\n",
              "          element.appendChild(docLink);\n",
              "        }\n",
              "      </script>\n",
              "    </div>\n",
              "  </div>\n",
              "  "
            ]
          },
          "metadata": {},
          "execution_count": 45
        },
        {
          "output_type": "execute_result",
          "data": {
            "text/plain": [
              "          A         B         C\n",
              "0 -1.321144 -0.334864  0.436580\n",
              "1 -1.092778 -1.151881  0.278324\n",
              "2  1.090833  1.698596  0.747804\n",
              "3 -0.764318 -0.637821 -1.355015\n",
              "4 -2.808770 -0.068168  0.369081"
            ],
            "text/html": [
              "\n",
              "  <div id=\"df-52f2e869-b92a-4733-ab6c-dca2aa9baca9\">\n",
              "    <div class=\"colab-df-container\">\n",
              "      <div>\n",
              "<style scoped>\n",
              "    .dataframe tbody tr th:only-of-type {\n",
              "        vertical-align: middle;\n",
              "    }\n",
              "\n",
              "    .dataframe tbody tr th {\n",
              "        vertical-align: top;\n",
              "    }\n",
              "\n",
              "    .dataframe thead th {\n",
              "        text-align: right;\n",
              "    }\n",
              "</style>\n",
              "<table border=\"1\" class=\"dataframe\">\n",
              "  <thead>\n",
              "    <tr style=\"text-align: right;\">\n",
              "      <th></th>\n",
              "      <th>A</th>\n",
              "      <th>B</th>\n",
              "      <th>C</th>\n",
              "    </tr>\n",
              "  </thead>\n",
              "  <tbody>\n",
              "    <tr>\n",
              "      <th>0</th>\n",
              "      <td>-1.321144</td>\n",
              "      <td>-0.334864</td>\n",
              "      <td>0.436580</td>\n",
              "    </tr>\n",
              "    <tr>\n",
              "      <th>1</th>\n",
              "      <td>-1.092778</td>\n",
              "      <td>-1.151881</td>\n",
              "      <td>0.278324</td>\n",
              "    </tr>\n",
              "    <tr>\n",
              "      <th>2</th>\n",
              "      <td>1.090833</td>\n",
              "      <td>1.698596</td>\n",
              "      <td>0.747804</td>\n",
              "    </tr>\n",
              "    <tr>\n",
              "      <th>3</th>\n",
              "      <td>-0.764318</td>\n",
              "      <td>-0.637821</td>\n",
              "      <td>-1.355015</td>\n",
              "    </tr>\n",
              "    <tr>\n",
              "      <th>4</th>\n",
              "      <td>-2.808770</td>\n",
              "      <td>-0.068168</td>\n",
              "      <td>0.369081</td>\n",
              "    </tr>\n",
              "  </tbody>\n",
              "</table>\n",
              "</div>\n",
              "      <button class=\"colab-df-convert\" onclick=\"convertToInteractive('df-52f2e869-b92a-4733-ab6c-dca2aa9baca9')\"\n",
              "              title=\"Convert this dataframe to an interactive table.\"\n",
              "              style=\"display:none;\">\n",
              "        \n",
              "  <svg xmlns=\"http://www.w3.org/2000/svg\" height=\"24px\"viewBox=\"0 0 24 24\"\n",
              "       width=\"24px\">\n",
              "    <path d=\"M0 0h24v24H0V0z\" fill=\"none\"/>\n",
              "    <path d=\"M18.56 5.44l.94 2.06.94-2.06 2.06-.94-2.06-.94-.94-2.06-.94 2.06-2.06.94zm-11 1L8.5 8.5l.94-2.06 2.06-.94-2.06-.94L8.5 2.5l-.94 2.06-2.06.94zm10 10l.94 2.06.94-2.06 2.06-.94-2.06-.94-.94-2.06-.94 2.06-2.06.94z\"/><path d=\"M17.41 7.96l-1.37-1.37c-.4-.4-.92-.59-1.43-.59-.52 0-1.04.2-1.43.59L10.3 9.45l-7.72 7.72c-.78.78-.78 2.05 0 2.83L4 21.41c.39.39.9.59 1.41.59.51 0 1.02-.2 1.41-.59l7.78-7.78 2.81-2.81c.8-.78.8-2.07 0-2.86zM5.41 20L4 18.59l7.72-7.72 1.47 1.35L5.41 20z\"/>\n",
              "  </svg>\n",
              "      </button>\n",
              "      \n",
              "  <style>\n",
              "    .colab-df-container {\n",
              "      display:flex;\n",
              "      flex-wrap:wrap;\n",
              "      gap: 12px;\n",
              "    }\n",
              "\n",
              "    .colab-df-convert {\n",
              "      background-color: #E8F0FE;\n",
              "      border: none;\n",
              "      border-radius: 50%;\n",
              "      cursor: pointer;\n",
              "      display: none;\n",
              "      fill: #1967D2;\n",
              "      height: 32px;\n",
              "      padding: 0 0 0 0;\n",
              "      width: 32px;\n",
              "    }\n",
              "\n",
              "    .colab-df-convert:hover {\n",
              "      background-color: #E2EBFA;\n",
              "      box-shadow: 0px 1px 2px rgba(60, 64, 67, 0.3), 0px 1px 3px 1px rgba(60, 64, 67, 0.15);\n",
              "      fill: #174EA6;\n",
              "    }\n",
              "\n",
              "    [theme=dark] .colab-df-convert {\n",
              "      background-color: #3B4455;\n",
              "      fill: #D2E3FC;\n",
              "    }\n",
              "\n",
              "    [theme=dark] .colab-df-convert:hover {\n",
              "      background-color: #434B5C;\n",
              "      box-shadow: 0px 1px 3px 1px rgba(0, 0, 0, 0.15);\n",
              "      filter: drop-shadow(0px 1px 2px rgba(0, 0, 0, 0.3));\n",
              "      fill: #FFFFFF;\n",
              "    }\n",
              "  </style>\n",
              "\n",
              "      <script>\n",
              "        const buttonEl =\n",
              "          document.querySelector('#df-52f2e869-b92a-4733-ab6c-dca2aa9baca9 button.colab-df-convert');\n",
              "        buttonEl.style.display =\n",
              "          google.colab.kernel.accessAllowed ? 'block' : 'none';\n",
              "\n",
              "        async function convertToInteractive(key) {\n",
              "          const element = document.querySelector('#df-52f2e869-b92a-4733-ab6c-dca2aa9baca9');\n",
              "          const dataTable =\n",
              "            await google.colab.kernel.invokeFunction('convertToInteractive',\n",
              "                                                     [key], {});\n",
              "          if (!dataTable) return;\n",
              "\n",
              "          const docLinkHtml = 'Like what you see? Visit the ' +\n",
              "            '<a target=\"_blank\" href=https://colab.research.google.com/notebooks/data_table.ipynb>data table notebook</a>'\n",
              "            + ' to learn more about interactive tables.';\n",
              "          element.innerHTML = '';\n",
              "          dataTable['output_type'] = 'display_data';\n",
              "          await google.colab.output.renderOutput(dataTable, element);\n",
              "          const docLink = document.createElement('div');\n",
              "          docLink.innerHTML = docLinkHtml;\n",
              "          element.appendChild(docLink);\n",
              "        }\n",
              "      </script>\n",
              "    </div>\n",
              "  </div>\n",
              "  "
            ]
          },
          "metadata": {},
          "execution_count": 104
        }
      ]
    },
    {
      "cell_type": "code",
      "source": [
        "import seaborn as sns \n",
        "import matplotlib.pyplot as plt\n",
        "sns.displot(data, kind='kde')\n",
        "plt.show()"
      ],
      "metadata": {
        "colab": {
          "base_uri": "https://localhost:8080/",
          "height": 721
        },
        "id": "0BR9E3d6Y5sy",
        "outputId": "53d17d9f-cfec-4c69-b60e-395c0c6fb01e"
      },
      "execution_count": 105,
      "outputs": [
        {
          "output_type": "display_data",
          "data": {
            "text/plain": [
              "<Figure size 402.375x360 with 1 Axes>"
            ],
            "image/png": "[encoded data removed]"
          },
          "metadata": {
            "needs_background": "light"
          }
        },
        {
          "output_type": "display_data",
          "data": {
            "text/plain": [
              "<Figure size 402.375x360 with 1 Axes>"
            ],
            "image/png": "[encoded data removed]"
          },
          "metadata": {
            "needs_background": "light"
          }
        }
      ]
    },
    {
      "cell_type": "code",
      "source": [
        "sns.displot(data, kind='hist')\n",
        "plt.show()"
      ],
      "metadata": {
        "colab": {
          "base_uri": "https://localhost:8080/",
          "height": 721
        },
        "id": "yFoRgFjPZVby",
        "outputId": "e2c85344-38f2-4bea-d316-9baa92ce7981"
      },
      "execution_count": 106,
      "outputs": [
        {
          "output_type": "display_data",
          "data": {
            "text/plain": [
              "<Figure size 402.375x360 with 1 Axes>"
            ],
            "image/png": "[encoded data removed]"
          },
          "metadata": {
            "needs_background": "light"
          }
        },
        {
          "output_type": "display_data",
          "data": {
            "text/plain": [
              "<Figure size 402.375x360 with 1 Axes>"
            ],
            "image/png": "[encoded data removed]"
          },
          "metadata": {
            "needs_background": "light"
          }
        }
      ]
    },
    {
      "cell_type": "code",
      "source": [
        "'''\n",
        "Exercício 13\n",
        "Gere um array com 800 números aleatórios de acordo com uma distribuição exponencial padrão. \n",
        "Use a função np.random.standard_exponential().\n",
        "'''"
      ],
      "metadata": {
        "id": "SgpALkdaZa3P"
      },
      "execution_count": 106,
      "outputs": []
    },
    {
      "cell_type": "code",
      "source": [
        "data = np.random.standard_exponential(800)\n",
        "data"
      ],
      "metadata": {
        "colab": {
          "base_uri": "https://localhost:8080/"
        },
        "id": "8Um9h3bQtadq",
        "outputId": "bebb0d5c-2b24-41ae-cc59-aca091fda3f4"
      },
      "execution_count": 109,
      "outputs": [
        {
          "output_type": "execute_result",
          "data": {
            "text/plain": [
              "array([0.72918874, 0.08527742, 0.05770859, 0.88117649, 3.15296333,\n",
              "       0.68654973, 3.06526387, 2.4688595 , 0.22837194, 0.58881244,\n",
              "       3.06000906, 1.45513485, 3.67519718, 0.12671471, 0.06327985,\n",
              "       0.78829569, 0.20067985, 0.32130888, 0.06910072, 1.35968059,\n",
              "       1.76585072, 1.12179088, 0.76476573, 0.51566994, 2.6512304 ,\n",
              "       0.67436493, 0.30708261, 0.10148867, 0.64982816, 0.46715053,\n",
              "       0.2736536 , 0.01050282, 0.53821342, 0.08557672, 1.46134785,\n",
              "       1.28532585, 0.32977916, 0.70570399, 0.7673685 , 1.36951006,\n",
              "       2.666416  , 1.0949632 , 0.74428438, 1.84936012, 1.00745311,\n",
              "       2.71512262, 0.09819869, 0.6149428 , 1.16522016, 0.13100274,\n",
              "       1.17403646, 0.45217065, 1.35370472, 1.96656393, 2.14558244,\n",
              "       1.52966205, 0.2808797 , 0.38449684, 0.05997817, 0.74796601,\n",
              "       2.17119571, 1.43678722, 0.40081158, 1.37352272, 1.27408259,\n",
              "       1.13534507, 0.26757664, 0.44128075, 0.3576609 , 0.22724969,\n",
              "       3.00111797, 2.76035564, 1.73470494, 0.74606215, 0.5163554 ,\n",
              "       1.33903338, 0.11172497, 0.15688986, 0.55044224, 0.28314961,\n",
              "       0.29160393, 0.20372587, 0.19149546, 0.00650928, 4.1620053 ,\n",
              "       2.57871063, 2.66641946, 0.89315715, 0.98716241, 1.57523873,\n",
              "       2.11533726, 0.78011722, 0.13049848, 0.20977064, 0.15285911,\n",
              "       0.43833573, 0.44732205, 3.76487206, 0.1292579 , 0.53702632,\n",
              "       0.09164589, 1.52496752, 1.35985866, 0.4185911 , 0.01423366,\n",
              "       1.06572323, 0.0651634 , 0.31426321, 1.23179659, 0.16284914,\n",
              "       0.90008365, 0.62935577, 2.64714132, 1.73578963, 0.58556317,\n",
              "       2.51133763, 3.05670771, 0.45070108, 1.07751559, 1.67508136,\n",
              "       0.24958396, 0.28531653, 1.57308385, 0.7992145 , 2.34007017,\n",
              "       0.1087007 , 0.31383055, 1.3188057 , 1.27511718, 1.35250298,\n",
              "       0.47117739, 2.37754592, 0.13536541, 0.34769549, 0.90427851,\n",
              "       0.22888709, 0.16966187, 1.69817574, 1.66495081, 2.53017125,\n",
              "       0.85161391, 0.06082093, 0.5891612 , 0.20278824, 0.4247063 ,\n",
              "       0.37465537, 0.21657226, 0.35100029, 1.27189651, 0.43452282,\n",
              "       0.0685936 , 1.86498683, 0.20361502, 1.90210058, 0.26415445,\n",
              "       0.5086222 , 3.19918403, 0.27639317, 0.10909214, 2.96839703,\n",
              "       2.04384476, 1.50684664, 0.3992777 , 0.82162815, 0.05500419,\n",
              "       1.50654064, 0.08641215, 0.59319656, 0.5373673 , 0.03054897,\n",
              "       1.40719621, 1.40318631, 0.93182404, 1.09637835, 1.54632587,\n",
              "       0.43357422, 0.68326369, 0.42157835, 0.36144598, 0.68432604,\n",
              "       1.66799001, 2.19947641, 1.69573437, 0.59920607, 0.97921036,\n",
              "       0.9685103 , 0.60716098, 0.81719244, 1.03564146, 0.20903779,\n",
              "       0.79005998, 0.10675473, 0.02684872, 0.64060953, 0.59611428,\n",
              "       0.18968422, 1.04584239, 0.44559609, 1.42158024, 0.8443524 ,\n",
              "       1.80157033, 0.84749339, 0.67798467, 0.55912876, 0.4521022 ,\n",
              "       0.96812203, 2.88581473, 0.50863756, 1.29365303, 0.18842916,\n",
              "       2.61802129, 2.22437503, 1.37088147, 0.08745741, 0.82354313,\n",
              "       0.22799888, 0.67489536, 3.66159834, 1.10973055, 0.05283166,\n",
              "       0.63052537, 0.00793892, 0.46999968, 0.70689195, 0.27812715,\n",
              "       0.18774439, 0.90847033, 0.79927242, 0.64369381, 0.57629543,\n",
              "       1.88512652, 0.43834507, 0.39932187, 0.44620344, 0.16743077,\n",
              "       0.20564793, 0.22060101, 2.76224472, 0.20501984, 0.13755863,\n",
              "       1.98305817, 1.60262746, 0.83201086, 0.11990065, 2.57754938,\n",
              "       1.13418841, 1.33744326, 0.54061061, 0.45446653, 0.26152831,\n",
              "       2.68442128, 1.61296608, 0.8055531 , 0.32443847, 0.23202858,\n",
              "       0.64272888, 1.20363221, 0.14555815, 0.73223378, 0.7376758 ,\n",
              "       0.76774366, 0.09825152, 3.14179813, 1.91778792, 2.02516479,\n",
              "       0.43953504, 2.15405887, 0.24724783, 0.21109961, 2.17704912,\n",
              "       0.58975946, 1.60644655, 0.64846812, 3.50817863, 0.07956348,\n",
              "       2.62199595, 1.79604924, 0.39127679, 0.15125914, 1.86167621,\n",
              "       0.45600518, 3.01614092, 0.41352642, 0.36923746, 0.28074895,\n",
              "       0.32954743, 1.29345443, 0.59466438, 0.54163951, 1.38069964,\n",
              "       0.28459992, 0.86866657, 0.17995092, 0.12576506, 1.04192398,\n",
              "       0.94194   , 0.13835535, 1.86411947, 0.41642156, 1.68737752,\n",
              "       4.34894882, 2.83470986, 0.06371259, 2.46209261, 0.77365583,\n",
              "       0.26725924, 0.31468885, 0.40228804, 2.01267495, 1.70964883,\n",
              "       0.33526882, 0.06042361, 0.95278315, 0.79171883, 0.20138878,\n",
              "       0.63038796, 1.7197102 , 0.00552693, 0.55698478, 0.79131963,\n",
              "       1.56589363, 0.8856807 , 0.55805824, 0.0600778 , 0.9491384 ,\n",
              "       0.21897961, 0.10554139, 0.73361363, 0.42323212, 0.94350126,\n",
              "       1.61484763, 1.94560857, 2.96811022, 0.37213993, 4.15157287,\n",
              "       0.88712675, 4.05186966, 0.15951778, 1.12393865, 2.7325398 ,\n",
              "       3.48120993, 0.44195779, 1.07613038, 0.36147895, 0.26408281,\n",
              "       1.25294317, 0.77260972, 0.14200324, 1.68876271, 1.52899117,\n",
              "       0.95710389, 0.70581694, 0.14262622, 1.93246627, 2.41323033,\n",
              "       0.03791007, 0.63052827, 1.35553958, 0.46214759, 2.6659153 ,\n",
              "       0.86081284, 0.38494215, 2.21442214, 0.44529425, 1.80690105,\n",
              "       2.17403655, 2.70004648, 0.66557606, 1.20478881, 0.07593476,\n",
              "       0.52861289, 0.11436904, 0.40737455, 2.86620131, 0.03703567,\n",
              "       3.46040527, 0.24842351, 0.45424933, 0.10865049, 0.25703326,\n",
              "       1.361057  , 1.06069474, 0.54556465, 1.39728741, 1.8691918 ,\n",
              "       0.24252456, 0.44789684, 0.49460052, 0.41130253, 0.28277985,\n",
              "       0.17195715, 0.1929296 , 0.31949876, 0.77148541, 0.46205816,\n",
              "       0.25462929, 0.47325105, 2.1825094 , 1.23179081, 0.45746588,\n",
              "       0.02433867, 1.06616229, 0.21625254, 0.23209974, 0.5820899 ,\n",
              "       0.15912317, 0.52236339, 1.1312743 , 0.97507914, 0.71241025,\n",
              "       0.50927542, 0.00609531, 3.7195728 , 0.09174862, 0.76920886,\n",
              "       0.69519127, 0.16361183, 0.25344788, 0.19669578, 0.16417992,\n",
              "       0.62287614, 0.23398079, 0.20602667, 0.12594189, 0.66236413,\n",
              "       0.67130087, 0.61635091, 1.11110597, 4.540307  , 0.20304139,\n",
              "       0.75125159, 1.16664737, 0.06296173, 0.15554729, 1.76893324,\n",
              "       0.13561058, 0.70417903, 0.02894363, 0.04709229, 0.69138912,\n",
              "       0.61211935, 0.0191339 , 0.64960629, 0.88843537, 2.205871  ,\n",
              "       0.87196226, 0.34117149, 0.37523251, 0.41536489, 0.29494907,\n",
              "       1.36980384, 0.3768882 , 0.18770827, 0.08519201, 0.88840408,\n",
              "       0.25247325, 0.20590642, 2.72564027, 0.07715383, 0.42236881,\n",
              "       1.992544  , 1.51363802, 2.41494723, 1.23279206, 2.30771694,\n",
              "       0.11287103, 0.99272465, 1.79826433, 0.79944043, 0.50296638,\n",
              "       2.26735757, 0.03301578, 1.86835353, 4.28056688, 0.80604874,\n",
              "       0.15855181, 0.38122773, 0.11330737, 2.32477557, 0.88891801,\n",
              "       0.81002615, 0.36878279, 1.06470852, 0.58023873, 0.29456931,\n",
              "       0.00850671, 0.47390778, 0.59000123, 0.1886616 , 2.05234411,\n",
              "       1.04637747, 1.87594285, 0.8532102 , 0.47390094, 0.18095464,\n",
              "       0.66916427, 0.33846805, 1.83013559, 0.73878175, 0.23114365,\n",
              "       1.577996  , 0.52235559, 0.22921185, 0.00790302, 1.44227162,\n",
              "       3.22295738, 2.15611654, 0.27699264, 0.18983098, 0.63414784,\n",
              "       0.6312344 , 0.28172252, 0.91219308, 3.32643665, 0.54500091,\n",
              "       1.74435057, 0.92627761, 0.70647774, 2.99215993, 0.02102922,\n",
              "       0.83888146, 1.25045772, 1.68544526, 0.55577223, 0.05024839,\n",
              "       0.91765795, 0.46805733, 0.49369534, 1.09546173, 0.80493113,\n",
              "       0.17618051, 1.81590662, 0.43701126, 0.26022923, 1.39693815,\n",
              "       0.47150147, 0.06694871, 0.89428418, 0.32053524, 1.1616775 ,\n",
              "       1.6386908 , 1.02800835, 1.55404772, 0.01163993, 0.13535687,\n",
              "       2.08814012, 0.48677176, 0.29305458, 0.93983732, 0.01628231,\n",
              "       0.47758865, 0.06441308, 2.94576635, 0.54244556, 0.39770919,\n",
              "       0.96075741, 1.21763894, 0.29607413, 1.40449116, 0.05119361,\n",
              "       1.4984513 , 0.97922823, 0.34848033, 1.14213619, 1.05346196,\n",
              "       0.49838753, 0.15402916, 0.11501382, 3.37832371, 1.15117707,\n",
              "       0.26447965, 0.17506932, 0.93762765, 1.81788732, 0.27145846,\n",
              "       0.48474986, 0.40922338, 1.60093999, 3.65709844, 0.83420902,\n",
              "       0.23819493, 0.96886745, 1.41046031, 0.95669089, 3.03149753,\n",
              "       0.28235768, 0.72882553, 0.69984027, 0.82417413, 2.22280123,\n",
              "       0.00943444, 0.12504592, 1.18661868, 0.03720847, 0.16800486,\n",
              "       1.63293671, 2.93934849, 0.03205021, 1.18508981, 0.08895523,\n",
              "       0.67036775, 0.12994227, 0.84718031, 1.44308563, 0.47792643,\n",
              "       0.17946364, 0.34220417, 0.12316648, 0.34951776, 0.52929981,\n",
              "       1.2600446 , 0.59447279, 2.50150475, 1.16816908, 1.60392338,\n",
              "       1.20769991, 0.8688785 , 0.43607496, 0.01046714, 0.45349159,\n",
              "       1.2757681 , 0.47856021, 0.09432396, 2.02868955, 0.17105073,\n",
              "       0.66973782, 0.01783712, 0.26713546, 0.67549272, 0.84347662,\n",
              "       0.54909381, 0.40573641, 2.02063925, 4.28439955, 0.07813872,\n",
              "       0.50472877, 0.77989024, 2.11589044, 0.98105696, 0.80103939,\n",
              "       0.05958486, 1.51360801, 1.55666067, 1.00876129, 0.36844595,\n",
              "       1.81442458, 0.40409279, 0.42105242, 0.30669439, 1.38940874,\n",
              "       1.15275086, 1.01745691, 1.74032113, 0.70466345, 0.96611155,\n",
              "       1.13045502, 0.11719175, 0.43657555, 0.68563091, 0.37780777,\n",
              "       0.47942912, 1.01627763, 0.18197485, 0.88389926, 2.05638224,\n",
              "       0.06422551, 1.74291175, 1.49637008, 0.01339356, 0.74591421,\n",
              "       1.02248234, 0.36640754, 0.88612473, 2.05173651, 1.69935736,\n",
              "       0.15431447, 3.35099684, 0.0530596 , 1.2003958 , 0.85006533,\n",
              "       0.52768693, 0.08268614, 0.7484285 , 0.40303341, 0.40813584,\n",
              "       1.00521212, 0.34188997, 0.0687014 , 0.96409303, 0.22507713,\n",
              "       0.94693332, 1.91918572, 0.00667344, 0.29666074, 0.16251916,\n",
              "       0.36653616, 3.17735145, 1.7169975 , 0.07273816, 1.5030698 ,\n",
              "       0.19163623, 1.29095883, 0.56596893, 1.31229441, 0.72493618,\n",
              "       0.91762062, 0.87032352, 1.23380298, 0.40264783, 0.78176117,\n",
              "       0.30996914, 0.8953347 , 0.43846324, 1.11380373, 0.4694897 ,\n",
              "       1.51024792, 0.01665963, 0.47816881, 0.31992088, 1.11814563,\n",
              "       0.06382819, 0.011806  , 0.98394705, 0.17002348, 0.29791745,\n",
              "       0.13471074, 0.21531156, 2.61695616, 0.44443951, 0.73987923,\n",
              "       1.92619186, 0.82101319, 0.03733454, 0.28274123, 1.86422176,\n",
              "       0.03407227, 0.23275987, 0.88339497, 1.12936679, 0.9664527 ,\n",
              "       0.74563622, 2.51166066, 1.6579066 , 0.48319998, 0.63855787,\n",
              "       0.47163247, 0.36652497, 1.25530608, 2.02414446, 0.02592308,\n",
              "       4.84832904, 0.20574834, 4.33730847, 0.5482127 , 0.17160947,\n",
              "       0.29844696, 0.9680523 , 0.01281744, 2.43557385, 0.29367988,\n",
              "       0.18882823, 0.02575727, 2.28384483, 0.6043988 , 0.11697051,\n",
              "       0.81215055, 0.07294335, 0.82236653, 0.01290021, 1.77375562,\n",
              "       2.37465949, 3.03803731, 0.04796904, 0.78703007, 0.28096832,\n",
              "       0.87579371, 0.00886639, 0.92013266, 4.75627892, 0.31577752,\n",
              "       0.42992232, 0.61718088, 1.57186532, 1.00819831, 2.60141507,\n",
              "       0.86813893, 1.72705996, 0.06837469, 0.13864053, 1.21017106,\n",
              "       0.47005435, 0.1721682 , 0.81673693, 0.16661784, 1.40632148,\n",
              "       1.53989588, 1.76125319, 0.76804885, 1.88362319, 0.15738843])"
            ]
          },
          "metadata": {},
          "execution_count": 109
        }
      ]
    },
    {
      "cell_type": "code",
      "source": [
        "'''\n",
        "Exercício 14\n",
        "A distribuição de Poisson é uma distribuição discreta de probabilidade. \n",
        "Esta distribuição descreve quantas vezes um determinado evento pode ocorrer em um tempo especificado. \n",
        "A biblioteca NumPy permite gerar números aleatórios desta distribuição com a função np.random.poisson(). \n",
        "Gere uma distribuição aleatória de shape 50 x 3, com número conhecido de ocorrências igual a 5.\n",
        "'''"
      ],
      "metadata": {
        "id": "qKw2dLumum7_"
      },
      "execution_count": null,
      "outputs": []
    },
    {
      "cell_type": "code",
      "source": [
        "data = np.random.poisson(lam = 5, size=(50,3))\n",
        "data"
      ],
      "metadata": {
        "colab": {
          "base_uri": "https://localhost:8080/"
        },
        "id": "nURyy-NIvWf-",
        "outputId": "07f34ab0-c154-40f3-929f-c6e6fd13985f"
      },
      "execution_count": 112,
      "outputs": [
        {
          "output_type": "execute_result",
          "data": {
            "text/plain": [
              "array([[ 4,  5,  3],\n",
              "       [ 5,  2,  9],\n",
              "       [ 7,  9,  6],\n",
              "       [ 3,  6,  2],\n",
              "       [ 5,  4,  3],\n",
              "       [ 8,  4,  8],\n",
              "       [ 6,  7,  2],\n",
              "       [ 4,  3, 10],\n",
              "       [ 9,  5,  5],\n",
              "       [ 5,  6,  3],\n",
              "       [ 8,  3,  6],\n",
              "       [ 6, 12,  6],\n",
              "       [ 3,  2,  4],\n",
              "       [ 4,  0,  3],\n",
              "       [ 6,  5,  5],\n",
              "       [ 1,  6,  0],\n",
              "       [ 6,  6,  3],\n",
              "       [ 4,  3,  6],\n",
              "       [ 6,  6,  5],\n",
              "       [ 6,  5,  3],\n",
              "       [ 3,  5, 11],\n",
              "       [ 8,  3,  4],\n",
              "       [ 4, 10,  7],\n",
              "       [ 5,  7,  7],\n",
              "       [ 3,  5,  5],\n",
              "       [ 3,  2,  4],\n",
              "       [ 6,  8,  6],\n",
              "       [ 7,  6,  3],\n",
              "       [ 1,  6,  6],\n",
              "       [10,  4,  6],\n",
              "       [ 2,  1,  5],\n",
              "       [ 2,  5,  3],\n",
              "       [ 9,  3,  5],\n",
              "       [ 5,  3,  4],\n",
              "       [ 4,  7,  4],\n",
              "       [ 2,  4,  4],\n",
              "       [ 3,  2,  3],\n",
              "       [ 3,  3,  2],\n",
              "       [ 2,  5,  6],\n",
              "       [ 5,  7,  5],\n",
              "       [ 4,  5,  3],\n",
              "       [ 7,  6,  8],\n",
              "       [ 6,  2,  2],\n",
              "       [ 7,  7,  8],\n",
              "       [ 6,  4,  6],\n",
              "       [ 6,  3,  3],\n",
              "       [ 4,  6,  2],\n",
              "       [ 6,  6,  2],\n",
              "       [10,  6,  5],\n",
              "       [ 3,  6,  5]])"
            ]
          },
          "metadata": {},
          "execution_count": 112
        }
      ]
    },
    {
      "cell_type": "code",
      "source": [
        "'''\n",
        "Exercício 15\n",
        "Gere uma distribuição aleatória de Poisson com 10.000 amostras, \n",
        "em que o número conhecido de ocorrências é igual 3. \n",
        "Armazene os dados em um objeto Pandas Series.\n",
        "'''"
      ],
      "metadata": {
        "id": "lrEDf62FwJZt"
      },
      "execution_count": null,
      "outputs": []
    },
    {
      "cell_type": "code",
      "source": [
        "import pandas as pd\n",
        "data = np.random.poisson(lam = 5, size=(10_000))\n",
        "series = pd.Series(data, name = 'Poisson')\n",
        "sns.histplot(series, kde = True)\n",
        "plt.show();"
      ],
      "metadata": {
        "colab": {
          "base_uri": "https://localhost:8080/",
          "height": 279
        },
        "id": "R4KAErZewyd3",
        "outputId": "ea2f2834-8210-455c-e0d2-66dea1ba2cbf"
      },
      "execution_count": 117,
      "outputs": [
        {
          "output_type": "display_data",
          "data": {
            "text/plain": [
              "<Figure size 432x288 with 1 Axes>"
            ],
            "image/png": "[encoded data removed]"
          },
          "metadata": {
            "needs_background": "light"
          }
        }
      ]
    },
    {
      "cell_type": "code",
      "source": [
        "'''\n",
        "Exercício 16\n",
        "A função np.random.choice() gera uma amostra aleatória de um array unidimensional. \n",
        "Gere uma amostra aleatória de tamanho 10, a partir das letras 'a', 'b', 'c', 'd'.\n",
        "'''"
      ],
      "metadata": {
        "id": "XSacShC3w3Jx"
      },
      "execution_count": null,
      "outputs": []
    },
    {
      "cell_type": "code",
      "source": [
        "data = np.random.choice(['A', 'B', 'C', 'D'], size=(10))\n",
        "data"
      ],
      "metadata": {
        "colab": {
          "base_uri": "https://localhost:8080/"
        },
        "id": "CB60tjIe1Bnm",
        "outputId": "90a4bc9f-d203-458f-bf2b-c70b10c3a369"
      },
      "execution_count": 118,
      "outputs": [
        {
          "output_type": "execute_result",
          "data": {
            "text/plain": [
              "array(['C', 'C', 'B', 'B', 'C', 'A', 'D', 'C', 'B', 'A'], dtype='<U1')"
            ]
          },
          "metadata": {},
          "execution_count": 118
        }
      ]
    },
    {
      "cell_type": "code",
      "source": [
        "''' \n",
        "Exercício 17\n",
        "Gere um DataFrame com 7 colunas e 100 linhas, com as seguintes características:\n",
        "\n",
        "a coluna 'A' segue uma distribuição normal padrão;\n",
        "\n",
        "a coluna 'B' segue uma distribuição uniforme;\n",
        "\n",
        "a coluna 'C' segue uma distribuição binomial, com 6 tentativas e probabilidade de sucesso 0.6;\n",
        "\n",
        "a coluna 'D' segue uma distribuição exponencial padrão;\n",
        "\n",
        "a coluna 'E' segue uma distribuição de Poisson com número conhecido de ocorrências igual a 10;\n",
        "\n",
        "a coluna 'F' segue uma distribuição normal de média 100 e desvio padrão 15;\n",
        "\n",
        "a coluna 'G' possui números aleatórios inteiros entre 50 e 3000.\n",
        "\n",
        "\n",
        "'''"
      ],
      "metadata": {
        "id": "E9GLX4Mg22cG"
      },
      "execution_count": null,
      "outputs": []
    },
    {
      "cell_type": "code",
      "source": [
        "import pandas as pd\n",
        "from numpy import random\n",
        "n = 100  #quantidade de observações\n",
        "data = {\n",
        "    'A': random.normal(size = n),\n",
        "    'B': random.uniform(size = n),\n",
        "    'C': random.binomial(n = 6, p = 0.6, size = n),\n",
        "    'D': random.standard_exponential(size = n),\n",
        "    'E': random.poisson(lam = 10, size = n),\n",
        "    'F': random.normal(loc = 100, scale = 15, size = n),\n",
        "    'G': random.randint(low = 50, high = 3000, size = n)}\n",
        "df = pd.DataFrame(data)\n",
        "df.head()"
      ],
      "metadata": {
        "colab": {
          "base_uri": "https://localhost:8080/",
          "height": 206
        },
        "id": "-VsgClha5Fyk",
        "outputId": "c657be8d-2dfa-4097-d3e2-68151c8b752d"
      },
      "execution_count": 138,
      "outputs": [
        {
          "output_type": "execute_result",
          "data": {
            "text/plain": [
              "          A         B  C         D   E           F     G\n",
              "0  0.931147  0.810950  6  3.112573  11  119.468869  1805\n",
              "1  0.196233  0.373977  4  0.060941   8   96.325124  2962\n",
              "2  0.393263  0.281606  5  1.408189   6   77.544577  1604\n",
              "3  0.688141  0.322915  5  1.904638  11   96.560097   136\n",
              "4 -1.415211  0.242160  3  0.042758  13  108.383680   500"
            ],
            "text/html": [
              "\n",
              "  <div id=\"df-bc50dda8-4cc7-4a98-9619-922dfaab84a6\">\n",
              "    <div class=\"colab-df-container\">\n",
              "      <div>\n",
              "<style scoped>\n",
              "    .dataframe tbody tr th:only-of-type {\n",
              "        vertical-align: middle;\n",
              "    }\n",
              "\n",
              "    .dataframe tbody tr th {\n",
              "        vertical-align: top;\n",
              "    }\n",
              "\n",
              "    .dataframe thead th {\n",
              "        text-align: right;\n",
              "    }\n",
              "</style>\n",
              "<table border=\"1\" class=\"dataframe\">\n",
              "  <thead>\n",
              "    <tr style=\"text-align: right;\">\n",
              "      <th></th>\n",
              "      <th>A</th>\n",
              "      <th>B</th>\n",
              "      <th>C</th>\n",
              "      <th>D</th>\n",
              "      <th>E</th>\n",
              "      <th>F</th>\n",
              "      <th>G</th>\n",
              "    </tr>\n",
              "  </thead>\n",
              "  <tbody>\n",
              "    <tr>\n",
              "      <th>0</th>\n",
              "      <td>0.931147</td>\n",
              "      <td>0.810950</td>\n",
              "      <td>6</td>\n",
              "      <td>3.112573</td>\n",
              "      <td>11</td>\n",
              "      <td>119.468869</td>\n",
              "      <td>1805</td>\n",
              "    </tr>\n",
              "    <tr>\n",
              "      <th>1</th>\n",
              "      <td>0.196233</td>\n",
              "      <td>0.373977</td>\n",
              "      <td>4</td>\n",
              "      <td>0.060941</td>\n",
              "      <td>8</td>\n",
              "      <td>96.325124</td>\n",
              "      <td>2962</td>\n",
              "    </tr>\n",
              "    <tr>\n",
              "      <th>2</th>\n",
              "      <td>0.393263</td>\n",
              "      <td>0.281606</td>\n",
              "      <td>5</td>\n",
              "      <td>1.408189</td>\n",
              "      <td>6</td>\n",
              "      <td>77.544577</td>\n",
              "      <td>1604</td>\n",
              "    </tr>\n",
              "    <tr>\n",
              "      <th>3</th>\n",
              "      <td>0.688141</td>\n",
              "      <td>0.322915</td>\n",
              "      <td>5</td>\n",
              "      <td>1.904638</td>\n",
              "      <td>11</td>\n",
              "      <td>96.560097</td>\n",
              "      <td>136</td>\n",
              "    </tr>\n",
              "    <tr>\n",
              "      <th>4</th>\n",
              "      <td>-1.415211</td>\n",
              "      <td>0.242160</td>\n",
              "      <td>3</td>\n",
              "      <td>0.042758</td>\n",
              "      <td>13</td>\n",
              "      <td>108.383680</td>\n",
              "      <td>500</td>\n",
              "    </tr>\n",
              "  </tbody>\n",
              "</table>\n",
              "</div>\n",
              "      <button class=\"colab-df-convert\" onclick=\"convertToInteractive('df-bc50dda8-4cc7-4a98-9619-922dfaab84a6')\"\n",
              "              title=\"Convert this dataframe to an interactive table.\"\n",
              "              style=\"display:none;\">\n",
              "        \n",
              "  <svg xmlns=\"http://www.w3.org/2000/svg\" height=\"24px\"viewBox=\"0 0 24 24\"\n",
              "       width=\"24px\">\n",
              "    <path d=\"M0 0h24v24H0V0z\" fill=\"none\"/>\n",
              "    <path d=\"M18.56 5.44l.94 2.06.94-2.06 2.06-.94-2.06-.94-.94-2.06-.94 2.06-2.06.94zm-11 1L8.5 8.5l.94-2.06 2.06-.94-2.06-.94L8.5 2.5l-.94 2.06-2.06.94zm10 10l.94 2.06.94-2.06 2.06-.94-2.06-.94-.94-2.06-.94 2.06-2.06.94z\"/><path d=\"M17.41 7.96l-1.37-1.37c-.4-.4-.92-.59-1.43-.59-.52 0-1.04.2-1.43.59L10.3 9.45l-7.72 7.72c-.78.78-.78 2.05 0 2.83L4 21.41c.39.39.9.59 1.41.59.51 0 1.02-.2 1.41-.59l7.78-7.78 2.81-2.81c.8-.78.8-2.07 0-2.86zM5.41 20L4 18.59l7.72-7.72 1.47 1.35L5.41 20z\"/>\n",
              "  </svg>\n",
              "      </button>\n",
              "      \n",
              "  <style>\n",
              "    .colab-df-container {\n",
              "      display:flex;\n",
              "      flex-wrap:wrap;\n",
              "      gap: 12px;\n",
              "    }\n",
              "\n",
              "    .colab-df-convert {\n",
              "      background-color: #E8F0FE;\n",
              "      border: none;\n",
              "      border-radius: 50%;\n",
              "      cursor: pointer;\n",
              "      display: none;\n",
              "      fill: #1967D2;\n",
              "      height: 32px;\n",
              "      padding: 0 0 0 0;\n",
              "      width: 32px;\n",
              "    }\n",
              "\n",
              "    .colab-df-convert:hover {\n",
              "      background-color: #E2EBFA;\n",
              "      box-shadow: 0px 1px 2px rgba(60, 64, 67, 0.3), 0px 1px 3px 1px rgba(60, 64, 67, 0.15);\n",
              "      fill: #174EA6;\n",
              "    }\n",
              "\n",
              "    [theme=dark] .colab-df-convert {\n",
              "      background-color: #3B4455;\n",
              "      fill: #D2E3FC;\n",
              "    }\n",
              "\n",
              "    [theme=dark] .colab-df-convert:hover {\n",
              "      background-color: #434B5C;\n",
              "      box-shadow: 0px 1px 3px 1px rgba(0, 0, 0, 0.15);\n",
              "      filter: drop-shadow(0px 1px 2px rgba(0, 0, 0, 0.3));\n",
              "      fill: #FFFFFF;\n",
              "    }\n",
              "  </style>\n",
              "\n",
              "      <script>\n",
              "        const buttonEl =\n",
              "          document.querySelector('#df-bc50dda8-4cc7-4a98-9619-922dfaab84a6 button.colab-df-convert');\n",
              "        buttonEl.style.display =\n",
              "          google.colab.kernel.accessAllowed ? 'block' : 'none';\n",
              "\n",
              "        async function convertToInteractive(key) {\n",
              "          const element = document.querySelector('#df-bc50dda8-4cc7-4a98-9619-922dfaab84a6');\n",
              "          const dataTable =\n",
              "            await google.colab.kernel.invokeFunction('convertToInteractive',\n",
              "                                                     [key], {});\n",
              "          if (!dataTable) return;\n",
              "\n",
              "          const docLinkHtml = 'Like what you see? Visit the ' +\n",
              "            '<a target=\"_blank\" href=https://colab.research.google.com/notebooks/data_table.ipynb>data table notebook</a>'\n",
              "            + ' to learn more about interactive tables.';\n",
              "          element.innerHTML = '';\n",
              "          dataTable['output_type'] = 'display_data';\n",
              "          await google.colab.output.renderOutput(dataTable, element);\n",
              "          const docLink = document.createElement('div');\n",
              "          docLink.innerHTML = docLinkHtml;\n",
              "          element.appendChild(docLink);\n",
              "        }\n",
              "      </script>\n",
              "    </div>\n",
              "  </div>\n",
              "  "
            ]
          },
          "metadata": {},
          "execution_count": 138
        }
      ]
    },
    {
      "cell_type": "code",
      "source": [
        "'''\n",
        "Exercício 18\n",
        "Gere uma amostra da distribuição Qui-Quadrado com 3 graus de liberdade e shape 5 x 5;\n",
        "\n",
        "Gere uma amostra da distribuição Qui-Quadrado com 2 graus de liberdade e tamanho \n",
        "2.000 e plot um gráfico para visualizar a distribuição de probabilidade gerada;\n",
        "\n",
        "Gere uma amostra de uma distribuição Exponencial com scale 5 e shape 2 x 2.\n",
        "'''"
      ],
      "metadata": {
        "id": "sAU5CkKk6qgx"
      },
      "execution_count": null,
      "outputs": []
    },
    {
      "cell_type": "code",
      "source": [
        "import matplotlib.pyplot as plt\n",
        "import seaborn as sns\n",
        "from numpy import random \n",
        "\n",
        "data = random.chisquare(df = 3, size = (5, 5))\n",
        "data"
      ],
      "metadata": {
        "colab": {
          "base_uri": "https://localhost:8080/"
        },
        "id": "07euYI448a_1",
        "outputId": "2add8d80-79a6-4b2e-fed7-5bd18bf5d3bb"
      },
      "execution_count": 140,
      "outputs": [
        {
          "output_type": "execute_result",
          "data": {
            "text/plain": [
              "array([[4.60694305, 1.49355235, 3.63708946, 8.85611717, 3.68686358],\n",
              "       [4.47810531, 5.91296227, 1.84405686, 2.27267364, 0.92677602],\n",
              "       [1.89201149, 0.43987953, 2.00025033, 2.01947342, 0.39564391],\n",
              "       [9.62503802, 0.50104912, 4.78097412, 1.25959792, 8.20119351],\n",
              "       [3.70882337, 1.18293051, 3.28157448, 3.92897329, 0.91437583]])"
            ]
          },
          "metadata": {},
          "execution_count": 140
        }
      ]
    },
    {
      "cell_type": "code",
      "source": [
        "data2 = random.chisquare(df = 2, size = 2_000)\n",
        "plt.figure(figsize=(10, 8))\n",
        "sns.histplot(data2, kde=True, color='Red')"
      ],
      "metadata": {
        "colab": {
          "base_uri": "https://localhost:8080/",
          "height": 500
        },
        "id": "iD-eg6Tt8qbK",
        "outputId": "14711edb-a6f7-4c82-f6ff-3194f4692bbf"
      },
      "execution_count": 144,
      "outputs": [
        {
          "output_type": "execute_result",
          "data": {
            "text/plain": [
              "<matplotlib.axes._subplots.AxesSubplot at 0x7f9322649250>"
            ]
          },
          "metadata": {},
          "execution_count": 144
        },
        {
          "output_type": "display_data",
          "data": {
            "text/plain": [
              "<Figure size 720x576 with 1 Axes>"
            ],
            "image/png": "[encoded data removed]"
          },
          "metadata": {
            "needs_background": "light"
          }
        }
      ]
    },
    {
      "cell_type": "code",
      "source": [
        "data3 = random.exponential(scale = 5, size = (2, 2))\n",
        "data3"
      ],
      "metadata": {
        "colab": {
          "base_uri": "https://localhost:8080/"
        },
        "id": "HKlqcN5l813_",
        "outputId": "098bb126-e760-49a7-cd23-4732d00062b9"
      },
      "execution_count": 146,
      "outputs": [
        {
          "output_type": "execute_result",
          "data": {
            "text/plain": [
              "array([[16.81076779,  1.94847642],\n",
              "       [ 1.22428913,  4.77725904]])"
            ]
          },
          "metadata": {},
          "execution_count": 146
        }
      ]
    },
    {
      "cell_type": "code",
      "source": [
        "'''\n",
        "Exercício 19\n",
        "A distribuição logística é amplamente utilizada em Machine Learning e Redes Neurais. \n",
        "Gere um vetor com números aleatórios de uma amostra de tamanho 100, gerado por meio de uma \n",
        "distribuição logística com média 5 e desvio padrão 0.9.\n",
        "'''"
      ],
      "metadata": {
        "id": "_uvG9JY69ADV"
      },
      "execution_count": null,
      "outputs": []
    },
    {
      "cell_type": "code",
      "source": [
        "data = np.random.logistic(loc = 5, scale = 0.9, size = 100)\n",
        "data"
      ],
      "metadata": {
        "colab": {
          "base_uri": "https://localhost:8080/"
        },
        "id": "GNkGlfyC9ohm",
        "outputId": "e7b1a05d-b7a5-492b-f51d-3b7c976d04fa"
      },
      "execution_count": 147,
      "outputs": [
        {
          "output_type": "execute_result",
          "data": {
            "text/plain": [
              "array([4.03137298, 1.52963243, 6.30057639, 7.85157213, 5.60194346,\n",
              "       4.66162696, 5.11356859, 5.98540587, 4.23724821, 3.92602093,\n",
              "       5.73780018, 4.07402764, 4.55306903, 4.19177916, 3.79659295,\n",
              "       7.83495741, 5.47656583, 5.15049847, 4.67926756, 6.34869303,\n",
              "       4.75087697, 5.45605828, 4.33931134, 6.2401101 , 4.60062733,\n",
              "       4.86401921, 7.07171803, 5.30064828, 2.52846674, 4.3041725 ,\n",
              "       4.29093478, 4.44031192, 6.60574793, 7.02216252, 6.00460354,\n",
              "       4.94755383, 4.95156956, 3.91394348, 2.45286486, 5.54712665,\n",
              "       5.85234886, 6.16309805, 6.32829901, 2.5127925 , 1.35421957,\n",
              "       2.94828331, 6.31715499, 7.22488729, 5.2295192 , 5.63630029,\n",
              "       4.82293422, 3.66506682, 2.97812017, 6.25533451, 1.07239625,\n",
              "       4.58856337, 4.95793343, 6.71514362, 1.86886817, 6.35429491,\n",
              "       3.6524015 , 4.58538958, 6.06894656, 3.67386967, 5.38582557,\n",
              "       2.898708  , 5.85759543, 6.24964968, 6.87125813, 5.82374632,\n",
              "       4.55129041, 6.76054922, 5.55215915, 4.28117132, 8.10408644,\n",
              "       5.46745013, 7.71250902, 4.30644341, 6.50042714, 5.65128147,\n",
              "       6.12890432, 4.31105452, 4.46856272, 2.83387822, 4.51031445,\n",
              "       3.7990434 , 4.05972599, 5.1669886 , 4.22474491, 7.11669006,\n",
              "       4.5246627 , 4.75347928, 4.83453427, 5.42654778, 6.03596835,\n",
              "       3.62858455, 2.95912846, 3.62842701, 3.47551594, 9.1967046 ])"
            ]
          },
          "metadata": {},
          "execution_count": 147
        }
      ]
    },
    {
      "cell_type": "code",
      "source": [
        "'''\n",
        "Exercício 20\n",
        "Construa dois vetores de tamanho 100, com média 1 e desvio padrão 0.5, \n",
        "sendo que o primeiro segue uma distribuição normal, \n",
        "ao passo que o segundo vetor segue uma distribuição logística. \n",
        "Em seguida construa um DataFrame com os números aleatórios criados e \n",
        "gere um gráfico único que mostre ambas as distribuições aleatórias geradas.\n",
        "'''"
      ],
      "metadata": {
        "id": "uf8jVda59vAm"
      },
      "execution_count": null,
      "outputs": []
    },
    {
      "cell_type": "code",
      "source": [
        "import pandas as pd\n",
        "data1 = np.random.normal(1, 0.5, size=(100))\n",
        "data2 = np.random.logistic(1, 0.5, size=(100))\n",
        "df = pd.DataFrame({'Normal':data1, 'Logistic': data2})"
      ],
      "metadata": {
        "id": "Px2ldE6b96yv"
      },
      "execution_count": 151,
      "outputs": []
    },
    {
      "cell_type": "code",
      "source": [
        "import seaborn as sns\n",
        "import matplotlib.pyplot as plt\n",
        "dist = ['Normal', 'Logistic']\n",
        "plt.figure(figsize=(10, 5))\n",
        "sns.kdeplot(data = df, x = 'Normal')\n",
        "sns.kdeplot(data = df, x = 'Logistic')\n",
        "plt.legend(dist, loc = 'upper Left')\n",
        "plt.show();"
      ],
      "metadata": {
        "colab": {
          "base_uri": "https://localhost:8080/",
          "height": 577
        },
        "id": "J2W8H4Zf-E8u",
        "outputId": "4c5b9a74-d8dc-4d6c-8638-b5822b4ac3bc"
      },
      "execution_count": 159,
      "outputs": [
        {
          "output_type": "stream",
          "name": "stderr",
          "text": [
            "<ipython-input-159-698ab7caa3cd>:7: MatplotlibDeprecationWarning: Unrecognized location 'upper Left'. Falling back on 'best'; valid locations are\n",
            "\tbest\n",
            "\tupper right\n",
            "\tupper left\n",
            "\tlower left\n",
            "\tlower right\n",
            "\tright\n",
            "\tcenter left\n",
            "\tcenter right\n",
            "\tlower center\n",
            "\tupper center\n",
            "\tcenter\n",
            "This will raise an exception in 3.3.\n",
            "  plt.legend(dist, loc = 'upper Left')\n"
          ]
        },
        {
          "output_type": "display_data",
          "data": {
            "text/plain": [
              "<Figure size 720x360 with 1 Axes>"
            ],
            "image/png": "[encoded data removed]"
          },
          "metadata": {
            "needs_background": "light"
          }
        }
      ]
    }
  ]
}